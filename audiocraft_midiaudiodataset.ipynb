{
 "cells": [
  {
   "cell_type": "code",
   "execution_count": 1,
   "metadata": {},
   "outputs": [
    {
     "name": "stderr",
     "output_type": "stream",
     "text": [
      "WARNING[XFORMERS]: xFormers can't load C++/CUDA extensions. xFormers was built for:\n",
      "    PyTorch 2.1.0+cu121 with CUDA 1201 (you have 2.1.0+cu118)\n",
      "    Python  3.8.18 (you have 3.8.10)\n",
      "  Please reinstall xformers (see https://github.com/facebookresearch/xformers#installing-xformers)\n",
      "  Memory-efficient attention, SwiGLU, sparse and more won't be available.\n",
      "  Set XFORMERS_MORE_DETAILS=1 for more details\n",
      "/home/jongmin/.local/share/virtualenvs/audiocraft-ssbSDm-j/lib/python3.8/site-packages/tqdm/auto.py:21: TqdmWarning: IProgress not found. Please update jupyter and ipywidgets. See https://ipywidgets.readthedocs.io/en/stable/user_install.html\n",
      "  from .autonotebook import tqdm as notebook_tqdm\n"
     ]
    }
   ],
   "source": [
    "import torch\n",
    "from tqdm import tqdm\n",
    "\n",
    "from audiocraft.data.audio_dataset import AudioDataset, AudioMeta\n",
    "import pretty_midi\n",
    "import numpy as np\n",
    "\n",
    "from midi_to_pianoroll import parse_midi, create_piano_roll, parse_midi_slice"
   ]
  },
  {
   "cell_type": "code",
   "execution_count": 2,
   "metadata": {},
   "outputs": [],
   "source": [
    "args = {\n",
    "    # \"batch_size\": 64,\n",
    "    # \"num_workers\": 10,\n",
    "    \"segment_duration\": 30,\n",
    "    \"num_samples\": 500000,    \n",
    "    \"sample_rate\": 32000,\n",
    "    \"channels\": 1,\n",
    "}"
   ]
  },
  {
   "cell_type": "code",
   "execution_count": 3,
   "metadata": {},
   "outputs": [],
   "source": [
    "\n",
    "class MIDIAudioDataset(AudioDataset):\n",
    "    def __init__(self, meta, **kwargs):\n",
    "        super().__init__(meta, **kwargs)\n",
    "        self.return_info = True\n",
    "\n",
    "    def load_midi(self, midi_file_path):\n",
    "        \"\"\"\n",
    "        Load a MIDI file and return its piano roll representation.\n",
    "        \"\"\"\n",
    "        midi_data = pretty_midi.PrettyMIDI(midi_file_path)\n",
    "        # Extract piano roll, shape [88, time_steps], then expand to [2, 88, time_steps]\n",
    "        piano_roll = midi_data.get_piano_roll(fs=50)\n",
    "        onset_roll = midi_data.get_onset_strengths(fs=50)\n",
    "        piano_roll = np.stack([onset_roll, piano_roll], axis=0)\n",
    "        return piano_roll\n",
    "\n",
    "    def __getitem__(self, index):\n",
    "        # Fetch the audio segment using parent class method\n",
    "        audio_segment, segment_info = super().__getitem__(index)\n",
    "        \n",
    "        # Calculate the corresponding MIDI segment time\n",
    "        start_time = segment_info.seek_time\n",
    "        end_time = start_time + 30  # 30 seconds segment\n",
    "\n",
    "        # Construct MIDI file path (this may vary based on your file structure)\n",
    "        midi_file_path = f\"{segment_info.meta.path.rsplit('.',1)[0]}.midi\"\n",
    "        \n",
    "        # Load the MIDI file and extract the segment\n",
    "        print(start_time, end_time)\n",
    "        sliced_midi = parse_midi_slice(midi_file_path, start_time, end_time)\n",
    "        # Convert the MIDI segment to piano roll representation\n",
    "        piano_roll_segment = create_piano_roll(sliced_midi, 50)\n",
    "        # Convert numpy array to torch tensor\n",
    "        piano_roll_segment = torch.from_numpy(piano_roll_segment).float()\n",
    "\n",
    "        return audio_segment, piano_roll_segment, segment_info, sliced_midi"
   ]
  },
  {
   "cell_type": "code",
   "execution_count": 4,
   "metadata": {},
   "outputs": [],
   "source": [
    "midiaudiodataset = MIDIAudioDataset.from_meta(\"/home/jongmin/userdata/SemCodec/egs/midiaudio_test\", **args)"
   ]
  },
  {
   "cell_type": "code",
   "execution_count": 5,
   "metadata": {},
   "outputs": [],
   "source": [
    "midiaudiodataset.max_audio_duration"
   ]
  },
  {
   "cell_type": "code",
   "execution_count": 6,
   "metadata": {},
   "outputs": [
    {
     "data": {
      "text/plain": [
       "30"
      ]
     },
     "execution_count": 6,
     "metadata": {},
     "output_type": "execute_result"
    }
   ],
   "source": [
    "midiaudiodataset.segment_duration"
   ]
  },
  {
   "cell_type": "code",
   "execution_count": 7,
   "metadata": {},
   "outputs": [
    {
     "data": {
      "text/plain": [
       "True"
      ]
     },
     "execution_count": 7,
     "metadata": {},
     "output_type": "execute_result"
    }
   ],
   "source": [
    "midiaudiodataset.return_info"
   ]
  },
  {
   "cell_type": "code",
   "execution_count": 8,
   "metadata": {},
   "outputs": [
    {
     "name": "stdout",
     "output_type": "stream",
     "text": [
      "743.8253091364437 773.8253091364437\n"
     ]
    }
   ],
   "source": [
    "data = midiaudiodataset[0]"
   ]
  },
  {
   "cell_type": "code",
   "execution_count": 9,
   "metadata": {},
   "outputs": [],
   "source": [
    "audio = data[0]\n",
    "pr = data[1]\n",
    "info = data[2]"
   ]
  },
  {
   "cell_type": "code",
   "execution_count": 10,
   "metadata": {},
   "outputs": [
    {
     "data": {
      "text/plain": [
       "(torch.Size([1, 960000]), torch.Size([2, 88, 1500]))"
      ]
     },
     "execution_count": 10,
     "metadata": {},
     "output_type": "execute_result"
    }
   ],
   "source": [
    "audio.shape, pr.shape"
   ]
  },
  {
   "cell_type": "code",
   "execution_count": null,
   "metadata": {},
   "outputs": [],
   "source": []
  }
 ],
 "metadata": {
  "kernelspec": {
   "display_name": "audiocraft-ssbSDm-j",
   "language": "python",
   "name": "python3"
  },
  "language_info": {
   "codemirror_mode": {
    "name": "ipython",
    "version": 3
   },
   "file_extension": ".py",
   "mimetype": "text/x-python",
   "name": "python",
   "nbconvert_exporter": "python",
   "pygments_lexer": "ipython3",
   "version": "3.8.10"
  }
 },
 "nbformat": 4,
 "nbformat_minor": 2
}
