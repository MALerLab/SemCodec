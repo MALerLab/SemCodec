{
 "cells": [
  {
   "cell_type": "code",
   "execution_count": 1,
   "metadata": {},
   "outputs": [],
   "source": [
    "from tqdm import tqdm\n",
    "import os\n",
    "import torch\n",
    "import pretty_midi"
   ]
  },
  {
   "cell_type": "code",
   "execution_count": 2,
   "metadata": {},
   "outputs": [],
   "source": [
    "midi_path = \"/home/jongmin/userdata/MAESTRO/maestro-v3.0.0/2009/MIDI-Unprocessed_02_R1_2009_03-06_ORIG_MID--AUDIO_02_R1_2009_02_R1_2009_05_WAV.midi\""
   ]
  },
  {
   "cell_type": "code",
   "execution_count": 3,
   "metadata": {},
   "outputs": [],
   "source": [
    "walked = os.walk(os.path.abspath(midi_path.replace(\".midi\", \"*\")))"
   ]
  },
  {
   "cell_type": "code",
   "execution_count": 4,
   "metadata": {},
   "outputs": [
    {
     "data": {
      "text/plain": [
       "0"
      ]
     },
     "execution_count": 4,
     "metadata": {},
     "output_type": "execute_result"
    }
   ],
   "source": [
    "len(list(walked))"
   ]
  },
  {
   "cell_type": "code",
   "execution_count": 5,
   "metadata": {},
   "outputs": [],
   "source": [
    "def create_piano_roll(midi_notes, fs=100, note_range=(21, 109)):\n",
    "    \"\"\"\n",
    "    Create a piano roll from the given MIDI notes.\n",
    "    \n",
    "    Parameters:\n",
    "    midi_notes (np.array): An array of MIDI notes with the format [onset, offset, note, velocity].\n",
    "    fs (int): The sampling frequency of the piano roll.\n",
    "    note_range (tuple): The range of notes to include in the piano roll.\n",
    "    rf (int): The receptive field of EnCodec token.\n",
    "    sr (int): The sampling rate of the EnCodec model.\n",
    "    \n",
    "    Returns:\n",
    "    np.array: A piano roll of the MIDI notes.\n",
    "    \"\"\"\n",
    "    # Create an empty piano roll\n",
    "    piano_roll = np.zeros((2, note_range[1] - note_range[0], fs*30))\n",
    "\n",
    "    # Iterate over all notes\n",
    "    for note in midi_notes:\n",
    "        # Get the start and end indices for the note\n",
    "        start = int(np.round((note[0]) * fs))\n",
    "        end = int(np.round((note[1]) * fs))\n",
    "    \n",
    "        # Add the note to the piano roll\n",
    "        if start == piano_roll.shape[-1]:\n",
    "            continue\n",
    "\n",
    "        piano_roll[1, int(note[2]) - note_range[0], start:end] = 1\n",
    "        piano_roll[0, int(note[2]) - note_range[0], start] = 1\n",
    "\n",
    "    return piano_roll"
   ]
  },
  {
   "cell_type": "code",
   "execution_count": 6,
   "metadata": {},
   "outputs": [],
   "source": [
    "pm_loaded = pretty_midi.PrettyMIDI(midi_path)"
   ]
  },
  {
   "cell_type": "code",
   "execution_count": 7,
   "metadata": {},
   "outputs": [],
   "source": [
    "def slice_midi(midi_data, start_time, end_time):\n",
    "\n",
    "    # Create a new PrettyMIDI object for the sliced data\n",
    "    sliced_midi_data = pretty_midi.PrettyMIDI()\n",
    "\n",
    "    # Iterate over all instruments in the original MIDI data\n",
    "    for instrument in midi_data.instruments:\n",
    "        # Create a new instrument object for the sliced data\n",
    "        sliced_instrument = pretty_midi.Instrument(program=instrument.program, is_drum=instrument.is_drum, name=instrument.name)\n",
    "\n",
    "        # Slice the notes\n",
    "        for note in instrument.notes:\n",
    "            # If the note is within the slice times\n",
    "            if start_time <= note.start < end_time:\n",
    "                # Copy the note and adjust the start and end times\n",
    "                new_note = pretty_midi.Note(\n",
    "                    velocity=note.velocity,\n",
    "                    pitch=note.pitch,\n",
    "                    start=max(note.start, start_time) - start_time,\n",
    "                    end=min(note.end, end_time) - start_time\n",
    "                )\n",
    "                sliced_instrument.notes.append(new_note)\n",
    "\n",
    "        # Slice the pitch bends\n",
    "        for pitch_bend in instrument.pitch_bends:\n",
    "            if start_time <= pitch_bend.time < end_time:\n",
    "                # Copy the pitch bend and adjust the time\n",
    "                new_pitch_bend = pretty_midi.PitchBend(\n",
    "                    pitch=pitch_bend.pitch,\n",
    "                    time=pitch_bend.time - start_time\n",
    "                )\n",
    "                sliced_instrument.pitch_bends.append(new_pitch_bend)\n",
    "\n",
    "        # Slice the control changes\n",
    "        for control_change in instrument.control_changes:\n",
    "            if start_time <= control_change.time < end_time:\n",
    "                # Copy the control change and adjust the time\n",
    "                new_control_change = pretty_midi.ControlChange(\n",
    "                    number=control_change.number,\n",
    "                    value=control_change.value,\n",
    "                    time=control_change.time - start_time\n",
    "                )\n",
    "                sliced_instrument.control_changes.append(new_control_change)\n",
    "\n",
    "        # Add the sliced instrument to the new MIDI data\n",
    "        sliced_midi_data.instruments.append(sliced_instrument)\n",
    "\n",
    "    return sliced_midi_data"
   ]
  },
  {
   "cell_type": "code",
   "execution_count": 8,
   "metadata": {},
   "outputs": [
    {
     "data": {
      "text/plain": [
       "(167.08854166666666, 5.0)"
      ]
     },
     "execution_count": 8,
     "metadata": {},
     "output_type": "execute_result"
    }
   ],
   "source": [
    "pm_loaded.instruments[0].notes[-1].end, pm_loaded.instruments[0].notes[-1].end//30"
   ]
  },
  {
   "cell_type": "code",
   "execution_count": 9,
   "metadata": {},
   "outputs": [],
   "source": [
    "for i in range(int(pm_loaded.instruments[0].notes[-1].end//30)):\n",
    "    sliced_midi = slice_midi(pm_loaded, i*30, (i+1)*30)\n",
    "    transcribed_midi = pretty_midi.PrettyMIDI(midi_path.replace(\".midi\", \"_bytedance_{}.mid\".format(i*30)))"
   ]
  },
  {
   "cell_type": "code",
   "execution_count": 10,
   "metadata": {},
   "outputs": [],
   "source": [
    "import numpy as np"
   ]
  },
  {
   "cell_type": "code",
   "execution_count": 11,
   "metadata": {},
   "outputs": [],
   "source": [
    "pm_sliced = slice_midi(pm_loaded,60,90)"
   ]
  },
  {
   "cell_type": "code",
   "execution_count": 12,
   "metadata": {},
   "outputs": [],
   "source": [
    "transcribed_midi = pretty_midi.PrettyMIDI(midi_path.replace(\".midi\", \"_bytedance_{}.mid\".format(60)))"
   ]
  },
  {
   "cell_type": "code",
   "execution_count": null,
   "metadata": {},
   "outputs": [],
   "source": [
    "pm_synthed = pm_sliced.synthesize()\n",
    "pm_synthed.shape"
   ]
  },
  {
   "cell_type": "code",
   "execution_count": 16,
   "metadata": {},
   "outputs": [
    {
     "data": {
      "text/plain": [
       "[Note(start=0.136719, end=0.309896, pitch=42, velocity=56),\n",
       " Note(start=0.158854, end=0.326823, pitch=71, velocity=53),\n",
       " Note(start=0.302083, end=0.343750, pitch=49, velocity=54),\n",
       " Note(start=0.363281, end=0.401042, pitch=52, velocity=60),\n",
       " Note(start=0.119792, end=0.451823, pitch=80, velocity=74),\n",
       " Note(start=0.167969, end=0.563802, pitch=68, velocity=52),\n",
       " Note(start=0.535156, end=0.609375, pitch=70, velocity=78),\n",
       " Note(start=0.477865, end=0.622396, pitch=54, velocity=59),\n",
       " Note(start=0.558594, end=0.622396, pitch=61, velocity=70),\n",
       " Note(start=0.661458, end=0.783854, pitch=64, velocity=71),\n",
       " Note(start=0.733073, end=0.816406, pitch=72, velocity=85),\n",
       " Note(start=0.752604, end=0.852865, pitch=60, velocity=64),\n",
       " Note(start=0.765625, end=0.919271, pitch=68, velocity=63),\n",
       " Note(start=0.902344, end=0.932292, pitch=54, velocity=62),\n",
       " Note(start=0.946615, end=1.000000, pitch=61, velocity=73),\n",
       " Note(start=0.923177, end=1.026042, pitch=73, velocity=95),\n",
       " Note(start=1.020833, end=1.083333, pitch=52, velocity=68),\n",
       " Note(start=1.110677, end=1.144531, pitch=62, velocity=69),\n",
       " Note(start=1.119792, end=1.161458, pitch=46, velocity=63),\n",
       " Note(start=1.092448, end=1.203125, pitch=74, velocity=95),\n",
       " Note(start=1.175781, end=1.210938, pitch=42, velocity=55),\n",
       " Note(start=1.342448, end=1.454427, pitch=35, velocity=48),\n",
       " Note(start=1.373698, end=1.580729, pitch=64, velocity=53),\n",
       " Note(start=1.579427, end=1.626302, pitch=49, velocity=61),\n",
       " Note(start=1.334635, end=1.641927, pitch=76, velocity=89),\n",
       " Note(start=1.386719, end=1.787760, pitch=66, velocity=12),\n",
       " Note(start=1.768229, end=1.824219, pitch=47, velocity=22),\n",
       " Note(start=1.783854, end=1.864583, pitch=75, velocity=60),\n",
       " Note(start=1.835938, end=1.885417, pitch=54, velocity=53),\n",
       " Note(start=1.890625, end=2.001302, pitch=63, velocity=23),\n",
       " Note(start=2.031250, end=2.118490, pitch=63, velocity=28),\n",
       " Note(start=2.134115, end=2.208333, pitch=54, velocity=55),\n",
       " Note(start=2.250000, end=2.369792, pitch=73, velocity=79),\n",
       " Note(start=2.347656, end=2.391927, pitch=61, velocity=42),\n",
       " Note(start=2.352865, end=2.399740, pitch=51, velocity=50),\n",
       " Note(start=2.476562, end=2.533854, pitch=42, velocity=50),\n",
       " Note(start=2.020833, end=2.559896, pitch=66, velocity=69),\n",
       " Note(start=2.597656, end=2.641927, pitch=35, velocity=50),\n",
       " Note(start=2.644531, end=2.675781, pitch=59, velocity=56),\n",
       " Note(start=2.623698, end=2.679688, pitch=71, velocity=82),\n",
       " Note(start=2.777344, end=2.894531, pitch=37, velocity=47),\n",
       " Note(start=2.819010, end=2.934896, pitch=64, velocity=18),\n",
       " Note(start=2.912760, end=2.958333, pitch=44, velocity=55),\n",
       " Note(start=3.006510, end=3.048177, pitch=52, velocity=51),\n",
       " Note(start=2.772135, end=3.054688, pitch=59, velocity=57),\n",
       " Note(start=3.058594, end=3.105469, pitch=64, velocity=64),\n",
       " Note(start=2.742188, end=3.114583, pitch=71, velocity=77),\n",
       " Note(start=3.114583, end=3.239583, pitch=49, velocity=68),\n",
       " Note(start=3.205729, end=3.308594, pitch=56, velocity=72),\n",
       " Note(start=3.294271, end=3.329427, pitch=64, velocity=70),\n",
       " Note(start=3.415365, end=3.463542, pitch=64, velocity=65),\n",
       " Note(start=3.476562, end=3.561198, pitch=56, velocity=64),\n",
       " Note(start=3.562500, end=3.608073, pitch=49, velocity=68),\n",
       " Note(start=3.554688, end=3.634115, pitch=71, velocity=80),\n",
       " Note(start=3.614583, end=3.647135, pitch=59, velocity=50),\n",
       " Note(start=3.601562, end=3.704427, pitch=64, velocity=57),\n",
       " Note(start=3.669271, end=3.726562, pitch=52, velocity=76),\n",
       " Note(start=3.769531, end=3.815104, pitch=56, velocity=64),\n",
       " Note(start=3.772135, end=3.821615, pitch=44, velocity=65),\n",
       " Note(start=3.755208, end=4.013021, pitch=68, velocity=84),\n",
       " Note(start=3.971354, end=4.029948, pitch=59, velocity=65),\n",
       " Note(start=3.891927, end=4.044271, pitch=37, velocity=23),\n",
       " Note(start=3.958333, end=4.046875, pitch=71, velocity=81),\n",
       " Note(start=4.023438, end=4.065104, pitch=45, velocity=64),\n",
       " Note(start=3.994792, end=4.153646, pitch=64, velocity=58),\n",
       " Note(start=4.134115, end=4.167969, pitch=57, velocity=74),\n",
       " Note(start=4.136719, end=4.180990, pitch=69, velocity=84),\n",
       " Note(start=4.269531, end=4.356771, pitch=49, velocity=51),\n",
       " Note(start=4.326823, end=4.360677, pitch=61, velocity=67),\n",
       " Note(start=4.312500, end=4.390625, pitch=73, velocity=88),\n",
       " Note(start=4.304688, end=4.420573, pitch=57, velocity=41),\n",
       " Note(start=4.410156, end=4.476562, pitch=64, velocity=52),\n",
       " Note(start=4.601562, end=4.647135, pitch=64, velocity=28),\n",
       " Note(start=4.609375, end=4.722656, pitch=80, velocity=74),\n",
       " Note(start=4.700521, end=4.738281, pitch=57, velocity=46),\n",
       " Note(start=4.774740, end=4.819010, pitch=49, velocity=41),\n",
       " Note(start=4.645833, end=4.822917, pitch=68, velocity=42),\n",
       " Note(start=4.730469, end=4.838542, pitch=69, velocity=49),\n",
       " Note(start=4.867188, end=4.908854, pitch=66, velocity=53),\n",
       " Note(start=4.838542, end=4.919271, pitch=78, velocity=84),\n",
       " Note(start=4.902344, end=4.950521, pitch=52, velocity=42),\n",
       " Note(start=4.973958, end=5.033854, pitch=45, velocity=61),\n",
       " Note(start=5.055990, end=5.092448, pitch=64, velocity=44),\n",
       " Note(start=5.075521, end=5.115885, pitch=37, velocity=52),\n",
       " Note(start=5.031250, end=5.126302, pitch=76, velocity=83),\n",
       " Note(start=5.100260, end=5.162760, pitch=68, velocity=15),\n",
       " Note(start=5.269531, end=5.454427, pitch=39, velocity=51),\n",
       " Note(start=5.382812, end=5.463542, pitch=64, velocity=28),\n",
       " Note(start=5.315104, end=5.496094, pitch=76, velocity=62),\n",
       " Note(start=5.470052, end=5.566406, pitch=46, velocity=47),\n",
       " Note(start=5.380208, end=5.572917, pitch=68, velocity=13),\n",
       " Note(start=5.550781, end=5.598958, pitch=49, velocity=58),\n",
       " Note(start=5.463542, end=5.639323, pitch=64, velocity=3),\n",
       " Note(start=5.634115, end=5.670573, pitch=51, velocity=64),\n",
       " Note(start=5.765625, end=5.812500, pitch=58, velocity=60),\n",
       " Note(start=5.733073, end=5.845052, pitch=67, velocity=79),\n",
       " Note(start=5.837240, end=5.873698, pitch=61, velocity=55),\n",
       " Note(start=5.968750, end=6.007812, pitch=61, velocity=50),\n",
       " Note(start=5.996094, end=6.143229, pitch=57, velocity=45),\n",
       " Note(start=6.083333, end=6.148438, pitch=55, velocity=59),\n",
       " Note(start=5.967448, end=6.179688, pitch=67, velocity=63),\n",
       " Note(start=5.936198, end=6.192708, pitch=69, velocity=85),\n",
       " Note(start=6.180990, end=6.220052, pitch=51, velocity=50),\n",
       " Note(start=6.303385, end=6.382812, pitch=49, velocity=52),\n",
       " Note(start=6.458333, end=6.505208, pitch=43, velocity=46),\n",
       " Note(start=6.502604, end=6.572917, pitch=58, velocity=60),\n",
       " Note(start=6.470052, end=6.615885, pitch=70, velocity=87),\n",
       " Note(start=6.558594, end=6.617188, pitch=39, velocity=47),\n",
       " Note(start=6.731771, end=6.891927, pitch=32, velocity=52),\n",
       " Note(start=6.932292, end=6.985677, pitch=40, velocity=33),\n",
       " Note(start=7.010417, end=7.053385, pitch=46, velocity=46),\n",
       " Note(start=6.756510, end=7.070312, pitch=73, velocity=83),\n",
       " Note(start=6.832031, end=7.082031, pitch=61, velocity=44),\n",
       " Note(start=6.787760, end=7.084635, pitch=67, velocity=37),\n",
       " Note(start=7.138021, end=7.218750, pitch=44, velocity=38),\n",
       " Note(start=7.173177, end=7.272135, pitch=52, velocity=55),\n",
       " Note(start=7.296875, end=7.347656, pitch=58, velocity=31),\n",
       " Note(start=7.563802, end=7.647135, pitch=51, velocity=46),\n",
       " Note(start=7.364583, end=7.657552, pitch=59, velocity=44),\n",
       " Note(start=7.445312, end=7.746094, pitch=71, velocity=66),\n",
       " Note(start=7.690104, end=7.787760, pitch=44, velocity=40),\n",
       " Note(start=7.492188, end=7.794271, pitch=68, velocity=38),\n",
       " Note(start=7.826823, end=7.940104, pitch=39, velocity=48),\n",
       " Note(start=8.010417, end=8.188802, pitch=47, velocity=43),\n",
       " Note(start=8.251302, end=8.286458, pitch=56, velocity=49),\n",
       " Note(start=8.236979, end=8.338542, pitch=63, velocity=34),\n",
       " Note(start=8.158854, end=8.338542, pitch=75, velocity=61),\n",
       " Note(start=8.500000, end=8.803385, pitch=40, velocity=41),\n",
       " Note(start=8.730469, end=8.817708, pitch=68, velocity=8),\n",
       " Note(start=8.847656, end=8.902344, pitch=48, velocity=46),\n",
       " Note(start=8.764323, end=8.949219, pitch=63, velocity=20),\n",
       " Note(start=8.957031, end=8.993490, pitch=56, velocity=58),\n",
       " Note(start=8.651042, end=9.098958, pitch=75, velocity=58),\n",
       " Note(start=9.093750, end=9.134115, pitch=52, velocity=59),\n",
       " Note(start=8.993490, end=9.138021, pitch=68, velocity=56),\n",
       " Note(start=9.179688, end=9.308594, pitch=60, velocity=69),\n",
       " Note(start=9.285156, end=9.322917, pitch=68, velocity=51),\n",
       " Note(start=9.397135, end=9.436198, pitch=68, velocity=59),\n",
       " Note(start=9.483073, end=9.550781, pitch=60, velocity=49),\n",
       " Note(start=9.606771, end=9.649740, pitch=52, velocity=43),\n",
       " Note(start=9.614583, end=9.692708, pitch=75, velocity=67),\n",
       " Note(start=9.648438, end=9.713542, pitch=68, velocity=19),\n",
       " Note(start=9.675781, end=9.721354, pitch=63, velocity=36),\n",
       " Note(start=9.720052, end=9.760417, pitch=56, velocity=63),\n",
       " Note(start=9.812500, end=9.846354, pitch=60, velocity=55),\n",
       " Note(start=9.794271, end=9.856771, pitch=72, velocity=77),\n",
       " Note(start=9.802083, end=9.893229, pitch=48, velocity=55),\n",
       " Note(start=9.897135, end=10.050781, pitch=40, velocity=58),\n",
       " Note(start=10.029948, end=10.098958, pitch=63, velocity=43),\n",
       " Note(start=9.998698, end=10.108073, pitch=75, velocity=72),\n",
       " Note(start=10.096354, end=10.167969, pitch=49, velocity=64),\n",
       " Note(start=10.035156, end=10.191406, pitch=68, velocity=44),\n",
       " Note(start=10.220052, end=10.257812, pitch=56, velocity=60),\n",
       " Note(start=10.218750, end=10.259115, pitch=73, velocity=75),\n",
       " Note(start=10.260417, end=10.316406, pitch=61, velocity=23),\n",
       " Note(start=10.371094, end=10.415365, pitch=52, velocity=40),\n",
       " Note(start=10.459635, end=10.502604, pitch=64, velocity=38),\n",
       " Note(start=10.438802, end=10.503906, pitch=76, velocity=73),\n",
       " Note(start=10.467448, end=10.509115, pitch=73, velocity=33),\n",
       " Note(start=10.468750, end=10.532552, pitch=61, velocity=53),\n",
       " Note(start=10.630208, end=10.755208, pitch=68, velocity=41),\n",
       " Note(start=10.781250, end=10.860677, pitch=68, velocity=24),\n",
       " Note(start=10.829427, end=10.901042, pitch=71, velocity=50),\n",
       " Note(start=10.798177, end=10.928385, pitch=83, velocity=65),\n",
       " Note(start=10.955729, end=11.005208, pitch=61, velocity=31),\n",
       " Note(start=10.838542, end=11.057292, pitch=73, velocity=12),\n",
       " Note(start=11.040365, end=11.078125, pitch=52, velocity=44),\n",
       " Note(start=11.111979, end=11.171875, pitch=70, velocity=58),\n",
       " Note(start=11.088542, end=11.177083, pitch=82, velocity=71),\n",
       " Note(start=11.154948, end=11.203125, pitch=56, velocity=59),\n",
       " Note(start=11.289062, end=11.351562, pitch=49, velocity=50),\n",
       " Note(start=11.380208, end=11.425781, pitch=68, velocity=37),\n",
       " Note(start=11.345052, end=11.432292, pitch=71, velocity=51),\n",
       " Note(start=11.417969, end=11.462240, pitch=40, velocity=44),\n",
       " Note(start=11.317708, end=11.466146, pitch=80, velocity=75),\n",
       " Note(start=11.661458, end=11.825521, pitch=42, velocity=48),\n",
       " Note(start=11.764323, end=11.889323, pitch=71, velocity=37),\n",
       " Note(start=11.852865, end=11.897135, pitch=49, velocity=54),\n",
       " Note(start=11.937500, end=11.971354, pitch=52, velocity=52),\n",
       " Note(start=11.705729, end=11.996094, pitch=80, velocity=61),\n",
       " Note(start=11.756510, end=12.121094, pitch=68, velocity=37),\n",
       " Note(start=12.049479, end=12.154948, pitch=54, velocity=57),\n",
       " Note(start=12.110677, end=12.177083, pitch=70, velocity=72),\n",
       " Note(start=12.148438, end=12.205729, pitch=61, velocity=53),\n",
       " Note(start=12.231771, end=12.393229, pitch=64, velocity=67),\n",
       " Note(start=12.330729, end=12.406250, pitch=72, velocity=76),\n",
       " Note(start=12.373698, end=12.411458, pitch=60, velocity=50),\n",
       " Note(start=12.416667, end=12.467448, pitch=58, velocity=58),\n",
       " Note(start=12.385417, end=12.505208, pitch=68, velocity=55),\n",
       " Note(start=12.493490, end=12.526042, pitch=54, velocity=59),\n",
       " Note(start=12.537760, end=12.571615, pitch=61, velocity=68),\n",
       " Note(start=12.519531, end=12.622396, pitch=73, velocity=88),\n",
       " Note(start=12.618490, end=12.665365, pitch=52, velocity=57),\n",
       " Note(start=12.712240, end=12.752604, pitch=46, velocity=60),\n",
       " Note(start=12.720052, end=12.756510, pitch=62, velocity=58),\n",
       " Note(start=12.764323, end=12.804688, pitch=42, velocity=57),\n",
       " Note(start=12.695312, end=12.813802, pitch=74, velocity=94),\n",
       " Note(start=12.938802, end=13.058594, pitch=35, velocity=51),\n",
       " Note(start=13.069010, end=13.130208, pitch=42, velocity=55),\n",
       " Note(start=12.966146, end=13.144531, pitch=64, velocity=60),\n",
       " Note(start=12.923177, end=13.187500, pitch=76, velocity=87),\n",
       " Note(start=13.175781, end=13.212240, pitch=49, velocity=57),\n",
       " Note(start=13.303385, end=13.334635, pitch=47, velocity=64),\n",
       " Note(start=12.958333, end=13.371094, pitch=66, velocity=3),\n",
       " Note(start=13.355469, end=13.386719, pitch=63, velocity=61),\n",
       " Note(start=13.391927, end=13.451823, pitch=54, velocity=67),\n",
       " Note(start=13.342448, end=13.451823, pitch=75, velocity=77),\n",
       " Note(start=13.463542, end=13.513021, pitch=63, velocity=80),\n",
       " Note(start=13.623698, end=13.703125, pitch=63, velocity=49),\n",
       " Note(start=13.730469, end=13.817708, pitch=54, velocity=60),\n",
       " Note(start=13.833333, end=13.873698, pitch=47, velocity=50),\n",
       " Note(start=13.854167, end=13.911458, pitch=61, velocity=64),\n",
       " Note(start=13.804688, end=13.916667, pitch=73, velocity=87),\n",
       " Note(start=13.930990, end=13.981771, pitch=51, velocity=62),\n",
       " Note(start=13.592448, end=14.050781, pitch=66, velocity=79),\n",
       " Note(start=14.078125, end=14.119792, pitch=69, velocity=54),\n",
       " Note(start=14.065104, end=14.134115, pitch=42, velocity=52),\n",
       " Note(start=14.067708, end=14.145833, pitch=59, velocity=54),\n",
       " Note(start=14.026042, end=14.196615, pitch=71, velocity=86),\n",
       " Note(start=14.184896, end=14.226562, pitch=35, velocity=48),\n",
       " Note(start=14.464844, end=14.628906, pitch=42, velocity=39),\n",
       " Note(start=14.652344, end=14.701823, pitch=50, velocity=46),\n",
       " Note(start=14.475260, end=14.735677, pitch=71, velocity=59),\n",
       " Note(start=14.769531, end=14.812500, pitch=56, velocity=40),\n",
       " Note(start=14.783854, end=14.830729, pitch=62, velocity=46),\n",
       " Note(start=14.895833, end=14.966146, pitch=54, velocity=54),\n",
       " Note(start=14.957031, end=15.069010, pitch=62, velocity=62),\n",
       " Note(start=15.045573, end=15.069010, pitch=68, velocity=68),\n",
       " Note(start=15.157552, end=15.230469, pitch=68, velocity=68),\n",
       " Note(start=15.252604, end=15.303385, pitch=62, velocity=53),\n",
       " Note(start=15.335938, end=15.368490, pitch=54, velocity=54),\n",
       " Note(start=15.358073, end=15.451823, pitch=71, velocity=68),\n",
       " Note(start=15.486979, end=15.545573, pitch=56, velocity=17),\n",
       " Note(start=15.524740, end=15.605469, pitch=50, velocity=62),\n",
       " Note(start=15.546875, end=15.638021, pitch=66, velocity=71),\n",
       " Note(start=15.656250, end=15.795573, pitch=42, velocity=35),\n",
       " Note(start=15.782552, end=15.832031, pitch=50, velocity=55),\n",
       " Note(start=15.750000, end=15.925781, pitch=71, velocity=72),\n",
       " Note(start=15.917969, end=15.950521, pitch=69, velocity=76),\n",
       " Note(start=15.906250, end=15.960938, pitch=57, velocity=18),\n",
       " Note(start=15.981771, end=16.046875, pitch=54, velocity=53),\n",
       " Note(start=16.078125, end=16.115885, pitch=64, velocity=44),\n",
       " Note(start=16.098958, end=16.134115, pitch=73, velocity=76),\n",
       " Note(start=16.158854, end=16.238281, pitch=69, velocity=47),\n",
       " Note(start=16.368490, end=16.427083, pitch=62, velocity=46),\n",
       " Note(start=16.468750, end=16.507812, pitch=54, velocity=44),\n",
       " Note(start=16.317708, end=16.592448, pitch=76, velocity=62),\n",
       " Note(start=16.596354, end=16.634115, pitch=57, velocity=49),\n",
       " Note(start=16.545573, end=16.686198, pitch=74, velocity=68),\n",
       " Note(start=16.713542, end=16.760417, pitch=50, velocity=46),\n",
       " Note(start=16.725260, end=16.760417, pitch=73, velocity=66),\n",
       " Note(start=16.816406, end=16.867188, pitch=42, velocity=36),\n",
       " Note(start=17.028646, end=17.167969, pitch=44, velocity=44),\n",
       " Note(start=17.061198, end=17.169271, pitch=63, velocity=32),\n",
       " Note(start=17.201823, end=17.248698, pitch=51, velocity=50),\n",
       " Note(start=17.029948, end=17.291667, pitch=73, velocity=56),\n",
       " Note(start=17.063802, end=17.311198, pitch=66, velocity=28),\n",
       " Note(start=17.311198, end=17.427083, pitch=72, velocity=62),\n",
       " Note(start=17.404948, end=17.501302, pitch=56, velocity=55),\n",
       " Note(start=17.480469, end=17.520833, pitch=63, velocity=61),\n",
       " Note(start=17.559896, end=17.602865, pitch=68, velocity=69),\n",
       " Note(start=17.675781, end=17.746094, pitch=68, velocity=75),\n",
       " Note(start=17.764323, end=17.805990, pitch=62, velocity=58),\n",
       " Note(start=17.839844, end=17.873698, pitch=54, velocity=54),\n",
       " Note(start=17.980469, end=18.013021, pitch=49, velocity=66),\n",
       " Note(start=17.838542, end=18.049479, pitch=71, velocity=80),\n",
       " Note(start=18.013021, end=18.097656, pitch=66, velocity=78),\n",
       " Note(start=18.033854, end=18.100260, pitch=50, velocity=58),\n",
       " Note(start=18.104167, end=18.170573, pitch=42, velocity=49),\n",
       " Note(start=18.170573, end=18.277344, pitch=42, velocity=48),\n",
       " Note(start=18.227865, end=18.302083, pitch=62, velocity=49),\n",
       " Note(start=18.253906, end=18.315104, pitch=50, velocity=67),\n",
       " Note(start=18.195312, end=18.401042, pitch=71, velocity=78),\n",
       " Note(start=18.367188, end=18.415365, pitch=69, velocity=82),\n",
       " Note(start=18.455729, end=18.519531, pitch=54, velocity=69),\n",
       " Note(start=18.523438, end=18.570312, pitch=64, velocity=62),\n",
       " Note(start=18.523438, end=18.592448, pitch=73, velocity=92),\n",
       " Note(start=18.641927, end=18.748698, pitch=69, velocity=56),\n",
       " Note(start=18.769531, end=18.813802, pitch=69, velocity=38),\n",
       " Note(start=18.807292, end=18.845052, pitch=63, velocity=51),\n",
       " Note(start=18.843750, end=18.873698, pitch=62, velocity=60),\n",
       " Note(start=18.753906, end=18.986979, pitch=76, velocity=78),\n",
       " Note(start=19.016927, end=19.059896, pitch=57, velocity=66),\n",
       " Note(start=18.950521, end=19.091146, pitch=74, velocity=82),\n",
       " Note(start=19.092448, end=19.151042, pitch=73, velocity=90),\n",
       " Note(start=19.118490, end=19.160156, pitch=50, velocity=66),\n",
       " Note(start=19.183594, end=19.221354, pitch=42, velocity=64),\n",
       " Note(start=19.376302, end=19.460938, pitch=63, velocity=47),\n",
       " Note(start=19.359375, end=19.471354, pitch=44, velocity=62),\n",
       " Note(start=19.480469, end=19.544271, pitch=51, velocity=69),\n",
       " Note(start=19.363281, end=19.592448, pitch=66, velocity=48),\n",
       " Note(start=19.597656, end=19.630208, pitch=56, velocity=61),\n",
       " Note(start=19.346354, end=19.677083, pitch=73, velocity=73),\n",
       " Note(start=19.622396, end=19.697917, pitch=72, velocity=71),\n",
       " Note(start=19.710938, end=19.800781, pitch=56, velocity=69),\n",
       " Note(start=19.778646, end=19.852865, pitch=63, velocity=67),\n",
       " Note(start=19.837240, end=19.880208, pitch=68, velocity=75),\n",
       " Note(start=19.951823, end=19.975260, pitch=71, velocity=67),\n",
       " Note(start=19.945312, end=20.035156, pitch=69, velocity=73),\n",
       " Note(start=20.066406, end=20.111979, pitch=63, velocity=36),\n",
       " Note(start=20.111979, end=20.143229, pitch=56, velocity=72),\n",
       " Note(start=20.106771, end=20.153646, pitch=62, velocity=28),\n",
       " Note(start=20.214844, end=20.281250, pitch=57, velocity=76),\n",
       " Note(start=20.125000, end=20.286458, pitch=73, velocity=91),\n",
       " Note(start=20.294271, end=20.339844, pitch=66, velocity=90),\n",
       " Note(start=20.315104, end=20.354167, pitch=51, velocity=59),\n",
       " Note(start=20.346354, end=20.385417, pitch=50, velocity=53),\n",
       " Note(start=20.373698, end=20.407552, pitch=44, velocity=76),\n",
       " Note(start=20.537760, end=20.617188, pitch=66, velocity=59),\n",
       " Note(start=20.533854, end=20.686198, pitch=63, velocity=67),\n",
       " Note(start=20.501302, end=20.697917, pitch=44, velocity=73),\n",
       " Note(start=20.680990, end=20.759115, pitch=51, velocity=70),\n",
       " Note(start=20.516927, end=20.790365, pitch=73, velocity=93),\n",
       " Note(start=20.785156, end=20.820312, pitch=56, velocity=71),\n",
       " Note(start=20.808594, end=20.876302, pitch=72, velocity=83),\n",
       " Note(start=20.895833, end=21.005208, pitch=56, velocity=77),\n",
       " Note(start=20.983073, end=21.111979, pitch=63, velocity=79),\n",
       " Note(start=21.066406, end=21.152344, pitch=68, velocity=92),\n",
       " Note(start=21.222656, end=21.373698, pitch=69, velocity=84),\n",
       " Note(start=21.376302, end=21.484375, pitch=63, velocity=70),\n",
       " Note(start=21.501302, end=21.546875, pitch=56, velocity=49),\n",
       " Note(start=21.494792, end=21.652344, pitch=73, velocity=81),\n",
       " Note(start=21.625000, end=21.682292, pitch=57, velocity=66),\n",
       " Note(start=21.730469, end=21.792969, pitch=66, velocity=79),\n",
       " Note(start=21.755208, end=21.809896, pitch=51, velocity=54),\n",
       " Note(start=21.861979, end=21.924479, pitch=44, velocity=61),\n",
       " Note(start=22.207031, end=22.447917, pitch=56, velocity=52),\n",
       " Note(start=22.423177, end=22.561198, pitch=51, velocity=54),\n",
       " Note(start=22.552083, end=22.665365, pitch=44, velocity=57),\n",
       " Note(start=22.192708, end=22.750000, pitch=63, velocity=44),\n",
       " Note(start=22.657552, end=22.787760, pitch=56, velocity=61),\n",
       " Note(start=22.207031, end=22.787760, pitch=66, velocity=30),\n",
       " Note(start=22.144531, end=22.834635, pitch=73, velocity=73),\n",
       " Note(start=22.764323, end=22.855469, pitch=72, velocity=69),\n",
       " Note(start=22.783854, end=22.895833, pitch=51, velocity=59),\n",
       " Note(start=22.872396, end=23.104167, pitch=44, velocity=72),\n",
       " Note(start=23.045573, end=23.236979, pitch=57, velocity=86),\n",
       " Note(start=23.242188, end=23.360677, pitch=51, velocity=66),\n",
       " Note(start=23.345052, end=23.464844, pitch=44, velocity=78),\n",
       " Note(start=23.039062, end=23.540365, pitch=71, velocity=74),\n",
       " Note(start=23.127604, end=23.557292, pitch=66, velocity=19),\n",
       " Note(start=23.425781, end=23.558594, pitch=58, velocity=87),\n",
       " Note(start=23.115885, end=23.579427, pitch=63, velocity=31),\n",
       " Note(start=23.501302, end=23.675781, pitch=70, velocity=86),\n",
       " Note(start=23.526042, end=23.682292, pitch=51, velocity=85),\n",
       " Note(start=23.644531, end=23.779948, pitch=44, velocity=82),\n",
       " Note(start=23.779948, end=23.932292, pitch=59, velocity=90),\n",
       " Note(start=23.929688, end=24.072917, pitch=51, velocity=86),\n",
       " Note(start=23.789062, end=24.082031, pitch=63, velocity=71),\n",
       " Note(start=23.776042, end=24.102865, pitch=69, velocity=91),\n",
       " Note(start=23.791667, end=24.130208, pitch=66, velocity=75),\n",
       " Note(start=24.063802, end=24.144531, pitch=44, velocity=87),\n",
       " Note(start=24.213542, end=24.358073, pitch=60, velocity=96),\n",
       " Note(start=24.384115, end=24.471354, pitch=54, velocity=79),\n",
       " Note(start=24.373698, end=24.651042, pitch=63, velocity=82),\n",
       " Note(start=24.367188, end=24.653646, pitch=68, velocity=95),\n",
       " Note(start=24.569010, end=24.670573, pitch=44, velocity=92),\n",
       " Note(start=24.368490, end=24.742188, pitch=56, velocity=98),\n",
       " Note(start=24.921875, end=25.018229, pitch=57, velocity=73),\n",
       " Note(start=24.834635, end=25.039062, pitch=52, velocity=74),\n",
       " Note(start=24.773438, end=25.087240, pitch=45, velocity=75),\n",
       " Note(start=24.911458, end=25.100260, pitch=68, velocity=93),\n",
       " Note(start=24.914062, end=25.108073, pitch=56, velocity=95),\n",
       " Note(start=24.916667, end=25.122396, pitch=61, velocity=87),\n",
       " Note(start=25.102865, end=25.141927, pitch=64, velocity=71),\n",
       " Note(start=25.231771, end=25.268229, pitch=61, velocity=67),\n",
       " Note(start=25.225260, end=25.290365, pitch=56, velocity=79),\n",
       " Note(start=25.235677, end=25.292969, pitch=64, velocity=68),\n",
       " Note(start=25.317708, end=25.343750, pitch=68, velocity=76),\n",
       " Note(start=25.308594, end=25.346354, pitch=37, velocity=83),\n",
       " Note(start=25.319010, end=25.373698, pitch=25, velocity=58),\n",
       " Note(start=25.350260, end=25.410156, pitch=27, velocity=35),\n",
       " Note(start=25.429688, end=25.454427, pitch=61, velocity=66),\n",
       " Note(start=25.415365, end=25.513021, pitch=56, velocity=84),\n",
       " Note(start=25.415365, end=25.539062, pitch=68, velocity=91),\n",
       " Note(start=25.500000, end=25.598958, pitch=64, velocity=85),\n",
       " Note(start=25.669271, end=25.705729, pitch=57, velocity=80),\n",
       " Note(start=25.653646, end=25.746094, pitch=52, velocity=69),\n",
       " Note(start=25.627604, end=25.764323, pitch=45, velocity=58),\n",
       " Note(start=25.657552, end=25.798177, pitch=55, velocity=93),\n",
       " Note(start=25.654948, end=25.802083, pitch=67, velocity=95),\n",
       " Note(start=25.670573, end=25.807292, pitch=61, velocity=76),\n",
       " Note(start=25.760417, end=25.816406, pitch=66, velocity=2),\n",
       " Note(start=25.785156, end=25.828125, pitch=64, velocity=71),\n",
       " Note(start=25.934896, end=25.979167, pitch=64, velocity=52),\n",
       " Note(start=25.932292, end=25.992188, pitch=61, velocity=58),\n",
       " Note(start=25.916667, end=25.993490, pitch=55, velocity=73),\n",
       " Note(start=25.976562, end=26.006510, pitch=67, velocity=74),\n",
       " Note(start=25.996094, end=26.033854, pitch=37, velocity=54),\n",
       " Note(start=26.020833, end=26.087240, pitch=27, velocity=26),\n",
       " Note(start=26.095052, end=26.160156, pitch=67, velocity=74),\n",
       " Note(start=26.097656, end=26.179688, pitch=55, velocity=70),\n",
       " Note(start=26.102865, end=26.197917, pitch=61, velocity=62),\n",
       " Note(start=26.171875, end=26.203125, pitch=64, velocity=71),\n",
       " Note(start=26.264323, end=26.298177, pitch=57, velocity=53),\n",
       " Note(start=26.259115, end=26.307292, pitch=45, velocity=62),\n",
       " Note(start=26.278646, end=26.324219, pitch=61, velocity=52),\n",
       " Note(start=26.281250, end=26.350260, pitch=64, velocity=69),\n",
       " Note(start=26.281250, end=26.356771, pitch=55, velocity=66),\n",
       " Note(start=26.361979, end=26.511719, pitch=67, velocity=80),\n",
       " Note(start=26.480469, end=26.514323, pitch=61, velocity=67),\n",
       " Note(start=26.458333, end=26.541667, pitch=55, velocity=79),\n",
       " Note(start=26.540365, end=26.578125, pitch=37, velocity=71),\n",
       " Note(start=26.545573, end=26.578125, pitch=64, velocity=68),\n",
       " Note(start=26.549479, end=26.610677, pitch=25, velocity=50),\n",
       " Note(start=26.651042, end=26.768229, pitch=73, velocity=102),\n",
       " Note(start=26.660156, end=26.781250, pitch=61, velocity=85),\n",
       " Note(start=26.744792, end=26.791667, pitch=64, velocity=72),\n",
       " Note(start=26.966146, end=27.010417, pitch=58, velocity=67),\n",
       " Note(start=26.968750, end=27.036458, pitch=52, velocity=45),\n",
       " Note(start=26.934896, end=27.071615, pitch=66, velocity=82),\n",
       " Note(start=26.968750, end=27.074219, pitch=46, velocity=54),\n",
       " Note(start=26.967448, end=27.076823, pitch=54, velocity=51),\n",
       " Note(start=26.970052, end=27.104167, pitch=61, velocity=48),\n",
       " Note(start=27.080729, end=27.109375, pitch=64, velocity=56),\n",
       " Note(start=27.200521, end=27.279948, pitch=54, velocity=67),\n",
       " Note(start=27.208333, end=27.286458, pitch=64, velocity=61),\n",
       " Note(start=27.266927, end=27.305990, pitch=37, velocity=76),\n",
       " Note(start=27.282552, end=27.307292, pitch=66, velocity=61),\n",
       " Note(start=27.270833, end=27.320312, pitch=61, velocity=19),\n",
       " Note(start=27.270833, end=27.321615, pitch=25, velocity=60),\n",
       " Note(start=27.368490, end=27.440104, pitch=66, velocity=86),\n",
       " Note(start=27.373698, end=27.450521, pitch=54, velocity=76),\n",
       " Note(start=27.436198, end=27.472656, pitch=64, velocity=79),\n",
       " Note(start=27.453125, end=27.489583, pitch=61, velocity=66),\n",
       " Note(start=27.548177, end=27.582031, pitch=57, velocity=71),\n",
       " Note(start=27.549479, end=27.606771, pitch=52, velocity=61),\n",
       " Note(start=27.545573, end=27.623698, pitch=45, velocity=71),\n",
       " Note(start=27.574219, end=27.641927, pitch=61, velocity=57),\n",
       " Note(start=27.545573, end=27.645833, pitch=56, velocity=95),\n",
       " Note(start=27.545573, end=27.660156, pitch=68, velocity=92),\n",
       " Note(start=27.645833, end=27.679688, pitch=64, velocity=74),\n",
       " Note(start=27.760417, end=27.805990, pitch=64, velocity=70),\n",
       " Note(start=27.765625, end=27.820312, pitch=61, velocity=67),\n",
       " Note(start=27.750000, end=27.843750, pitch=56, velocity=91),\n",
       " Note(start=27.824219, end=27.860677, pitch=37, velocity=87),\n",
       " Note(start=27.828125, end=27.861979, pitch=68, velocity=80),\n",
       " Note(start=27.829427, end=27.876302, pitch=25, velocity=68),\n",
       " Note(start=27.941406, end=27.971354, pitch=61, velocity=76),\n",
       " Note(start=27.936198, end=28.015625, pitch=56, velocity=92),\n",
       " Note(start=27.921875, end=28.055990, pitch=68, velocity=86),\n",
       " Note(start=28.007812, end=28.115885, pitch=64, velocity=69),\n",
       " Note(start=28.201823, end=28.250000, pitch=57, velocity=63),\n",
       " Note(start=28.174479, end=28.285156, pitch=52, velocity=57),\n",
       " Note(start=28.140625, end=28.307292, pitch=45, velocity=55),\n",
       " Note(start=28.200521, end=28.311198, pitch=61, velocity=71),\n",
       " Note(start=28.182292, end=28.322917, pitch=55, velocity=91),\n",
       " Note(start=28.180990, end=28.326823, pitch=67, velocity=98),\n",
       " Note(start=28.343750, end=28.376302, pitch=64, velocity=56),\n",
       " Note(start=28.467448, end=28.496094, pitch=64, velocity=55),\n",
       " Note(start=28.464844, end=28.500000, pitch=61, velocity=47),\n",
       " Note(start=28.438802, end=28.513021, pitch=55, velocity=71),\n",
       " Note(start=28.497396, end=28.533854, pitch=37, velocity=72),\n",
       " Note(start=28.497396, end=28.539062, pitch=25, velocity=68),\n",
       " Note(start=28.501302, end=28.541667, pitch=67, velocity=70),\n",
       " Note(start=28.628906, end=28.674479, pitch=67, velocity=67),\n",
       " Note(start=28.619792, end=28.697917, pitch=55, velocity=74),\n",
       " Note(start=28.691406, end=28.727865, pitch=64, velocity=56),\n",
       " Note(start=28.628906, end=28.750000, pitch=61, velocity=50),\n",
       " Note(start=28.779948, end=28.834635, pitch=45, velocity=64),\n",
       " Note(start=28.804688, end=28.838542, pitch=61, velocity=54),\n",
       " Note(start=28.816406, end=28.873698, pitch=52, velocity=22),\n",
       " Note(start=28.839844, end=28.873698, pitch=64, velocity=46),\n",
       " Note(start=28.796875, end=28.882812, pitch=55, velocity=74),\n",
       " Note(start=28.884115, end=28.930990, pitch=67, velocity=77),\n",
       " Note(start=28.988281, end=29.022135, pitch=67, velocity=49),\n",
       " Note(start=28.996094, end=29.027344, pitch=61, velocity=68),\n",
       " Note(start=28.980469, end=29.035156, pitch=55, velocity=80),\n",
       " Note(start=29.050781, end=29.091146, pitch=37, velocity=74),\n",
       " Note(start=29.074219, end=29.115885, pitch=25, velocity=41),\n",
       " Note(start=29.020833, end=29.118490, pitch=64, velocity=38),\n",
       " Note(start=29.161458, end=29.265625, pitch=61, velocity=75),\n",
       " Note(start=29.158854, end=29.277344, pitch=73, velocity=93),\n",
       " Note(start=29.251302, end=29.292969, pitch=64, velocity=82),\n",
       " Note(start=29.467448, end=29.507812, pitch=58, velocity=46),\n",
       " Note(start=29.447917, end=29.526042, pitch=52, velocity=45),\n",
       " Note(start=29.441406, end=29.548177, pitch=54, velocity=66),\n",
       " Note(start=29.419271, end=29.552083, pitch=66, velocity=78),\n",
       " Note(start=29.433594, end=29.557292, pitch=46, velocity=49),\n",
       " Note(start=29.483073, end=29.558594, pitch=61, velocity=24),\n",
       " Note(start=29.540365, end=29.575521, pitch=64, velocity=68),\n",
       " Note(start=29.666667, end=29.746094, pitch=54, velocity=66),\n",
       " Note(start=29.664062, end=29.757812, pitch=64, velocity=74),\n",
       " Note(start=29.734375, end=29.769531, pitch=37, velocity=68),\n",
       " Note(start=29.733073, end=29.777344, pitch=25, velocity=72),\n",
       " Note(start=29.759115, end=29.789062, pitch=66, velocity=57),\n",
       " Note(start=29.841146, end=29.914062, pitch=66, velocity=72),\n",
       " Note(start=29.835938, end=29.916667, pitch=54, velocity=83),\n",
       " Note(start=29.869792, end=29.942708, pitch=64, velocity=56),\n",
       " Note(start=29.916667, end=29.954427, pitch=61, velocity=57)]"
      ]
     },
     "execution_count": 16,
     "metadata": {},
     "output_type": "execute_result"
    }
   ],
   "source": [
    "pm_sliced.instruments[0].notes"
   ]
  },
  {
   "cell_type": "code",
   "execution_count": 13,
   "metadata": {},
   "outputs": [
    {
     "data": {
      "text/plain": [
       "'/home/jongmin/userdata/MAESTRO/maestro-v3.0.0/2009/MIDI-Unprocessed_02_R1_2009_03-06_ORIG_MID--AUDIO_02_R1_2009_02_R1_2009_05_WAV_bytedance_60.mid'"
      ]
     },
     "execution_count": 13,
     "metadata": {},
     "output_type": "execute_result"
    }
   ],
   "source": [
    "midi_path.replace(\".midi\", \"_bytedance_{}.mid\".format(60))"
   ]
  },
  {
   "cell_type": "code",
   "execution_count": 15,
   "metadata": {},
   "outputs": [],
   "source": [
    "transcribed_midi.write('2009_MIDI-Unprocessed_02_R1_2009_03-06_ORIG_MID--AUDIO_02_R1_2009_02_R1_2009_05_WAV_bytedance_60.mid')"
   ]
  },
  {
   "cell_type": "code",
   "execution_count": 14,
   "metadata": {},
   "outputs": [],
   "source": [
    "pm_sliced.write(\"2009_MIDI-Unprocessed_02_R1_2009_03-06_ORIG_MID--AUDIO_02_R1_2009_02_R1_2009_05_WAV_sliced_60.mid\")"
   ]
  },
  {
   "cell_type": "code",
   "execution_count": null,
   "metadata": {},
   "outputs": [
    {
     "data": {
      "text/plain": [
       "(1366640,)"
      ]
     },
     "execution_count": 60,
     "metadata": {},
     "output_type": "execute_result"
    }
   ],
   "source": [
    "transcribed_synthed = transcribed_midi.synthesize()\n",
    "transcribed_synthed.shape"
   ]
  },
  {
   "cell_type": "code",
   "execution_count": null,
   "metadata": {},
   "outputs": [],
   "source": [
    "transcribed_midi.write()"
   ]
  },
  {
   "cell_type": "code",
   "execution_count": 58,
   "metadata": {},
   "outputs": [],
   "source": [
    "import IPython.display as ipd"
   ]
  },
  {
   "cell_type": "code",
   "execution_count": 12,
   "metadata": {},
   "outputs": [],
   "source": [
    "# pm_sliced_pr = pm_sliced.instruments[0].get_piano_roll(fs=100)\n",
    "# pm_sliced_pr.shape"
   ]
  },
  {
   "cell_type": "code",
   "execution_count": 68,
   "metadata": {},
   "outputs": [
    {
     "data": {
      "text/plain": [
       "array([[ 0.13671875,  0.30989583, 42.        , 56.        ],\n",
       "       [ 0.15885417,  0.32682292, 71.        , 53.        ],\n",
       "       [ 0.30208333,  0.34375   , 49.        , 54.        ],\n",
       "       ...,\n",
       "       [29.8359375 , 29.91666667, 54.        , 83.        ],\n",
       "       [29.86979167, 29.94270833, 64.        , 56.        ],\n",
       "       [29.91666667, 29.95442708, 61.        , 57.        ]])"
      ]
     },
     "execution_count": 68,
     "metadata": {},
     "output_type": "execute_result"
    }
   ],
   "source": [
    "a = []\n",
    "for note in pm_sliced.instruments[0].notes:\n",
    "    a.append([note.start, note.end, note.pitch, note.velocity])\n",
    "a = np.array(a)\n",
    "a"
   ]
  },
  {
   "cell_type": "code",
   "execution_count": 75,
   "metadata": {},
   "outputs": [
    {
     "data": {
      "text/plain": [
       "(2, 88, 3000)"
      ]
     },
     "execution_count": 75,
     "metadata": {},
     "output_type": "execute_result"
    }
   ],
   "source": [
    "a_pr = create_piano_roll(a, fs=100)\n",
    "a_pr.shape"
   ]
  },
  {
   "cell_type": "code",
   "execution_count": 42,
   "metadata": {},
   "outputs": [],
   "source": [
    "import mir_eval"
   ]
  },
  {
   "cell_type": "code",
   "execution_count": 43,
   "metadata": {},
   "outputs": [
    {
     "data": {
      "text/plain": [
       "((443,), (443, 2))"
      ]
     },
     "execution_count": 43,
     "metadata": {},
     "output_type": "execute_result"
    }
   ],
   "source": [
    "a_pitches = []\n",
    "a_intervals = []\n",
    "for note in pm_sliced.instruments[0].notes:\n",
    "    a_pitches.append(mir_eval.util.midi_to_hz(note.pitch))\n",
    "    a_intervals.append([note.start, note.end])\n",
    "a_pitches = np.array(a_pitches)\n",
    "a_intervals = np.array(a_intervals)\n",
    "a_pitches.shape, a_intervals.shape"
   ]
  },
  {
   "cell_type": "code",
   "execution_count": 44,
   "metadata": {},
   "outputs": [
    {
     "data": {
      "text/plain": [
       "((720,), (720, 2))"
      ]
     },
     "execution_count": 44,
     "metadata": {},
     "output_type": "execute_result"
    }
   ],
   "source": [
    "b_pitches = []\n",
    "b_intervals = []\n",
    "for note in transcribed_midi.instruments[0].notes:\n",
    "    b_pitches.append(mir_eval.util.midi_to_hz(note.pitch))\n",
    "    b_intervals.append([note.start, note.end])\n",
    "b_pitches = np.array(b_pitches)\n",
    "b_intervals = np.array(b_intervals)\n",
    "b_pitches.shape, b_intervals.shape"
   ]
  },
  {
   "cell_type": "code",
   "execution_count": 52,
   "metadata": {},
   "outputs": [],
   "source": [
    "import mir_eval"
   ]
  },
  {
   "cell_type": "code",
   "execution_count": 51,
   "metadata": {},
   "outputs": [
    {
     "data": {
      "text/plain": [
       "(0.2986111111111111,\n",
       " 0.4853273137697517,\n",
       " 0.36973344797936375,\n",
       " 0.28663706714967097)"
      ]
     },
     "execution_count": 51,
     "metadata": {},
     "output_type": "execute_result"
    }
   ],
   "source": [
    "met = mir_eval.transcription.precision_recall_f1_overlap(a_intervals, a_pitches, b_intervals, b_pitches, offset_ratio=None)\n",
    "met"
   ]
  },
  {
   "cell_type": "code",
   "execution_count": 47,
   "metadata": {},
   "outputs": [
    {
     "data": {
      "text/plain": [
       "(0.04027777777777778,\n",
       " 0.0654627539503386,\n",
       " 0.04987102321582115,\n",
       " 0.6365347937238959)"
      ]
     },
     "execution_count": 47,
     "metadata": {},
     "output_type": "execute_result"
    }
   ],
   "source": [
    "met = mir_eval.transcription.precision_recall_f1_overlap(a_intervals, a_pitches, b_intervals, b_pitches)\n",
    "met"
   ]
  },
  {
   "cell_type": "code",
   "execution_count": 78,
   "metadata": {},
   "outputs": [],
   "source": [
    "met = note_eval.evaluate(torch.Tensor(b_pr), torch.Tensor(a_pr))"
   ]
  },
  {
   "cell_type": "code",
   "execution_count": 79,
   "metadata": {},
   "outputs": [
    {
     "data": {
      "text/plain": [
       "defaultdict(list,\n",
       "            {'metric/note/precision': [0.28304597701149425],\n",
       "             'metric/note/recall': [0.4020408163265306],\n",
       "             'metric/note/f1': [0.3322091062394603],\n",
       "             'metric/note/overlap': [0.3352592796718505],\n",
       "             'metric/note-with-offsets/precision': [0.017241379310344827],\n",
       "             'metric/note-with-offsets/recall': [0.024489795918367346],\n",
       "             'metric/note-with-offsets/f1': [0.02023608768971332],\n",
       "             'metric/note-with-offsets/overlap': [0.7574217648571047],\n",
       "             'metric/frame/f1': [0.21121251629726212],\n",
       "             'metric/frame/precision': [0.1386986301369863],\n",
       "             'metric/frame/recall': [0.4426229508196721],\n",
       "             'metric/frame/accuracy': [0.11807580174927114],\n",
       "             'metric/frame/substitution_error': [0.47540983606557374],\n",
       "             'metric/frame/miss_error': [0.08196721311475409],\n",
       "             'metric/frame/false_alarm_error': [2.273224043715847],\n",
       "             'metric/frame/total_error': [2.830601092896175],\n",
       "             'metric/frame/chroma_precision': [0.1558219178082192],\n",
       "             'metric/frame/chroma_recall': [0.4972677595628415],\n",
       "             'metric/frame/chroma_accuracy': [0.1346153846153846],\n",
       "             'metric/frame/chroma_substitution_error': [0.4207650273224044],\n",
       "             'metric/frame/chroma_miss_error': [0.08196721311475409],\n",
       "             'metric/frame/chroma_false_alarm_error': [2.273224043715847],\n",
       "             'metric/frame/chroma_total_error': [2.7759562841530054]})"
      ]
     },
     "execution_count": 79,
     "metadata": {},
     "output_type": "execute_result"
    }
   ],
   "source": [
    "met"
   ]
  },
  {
   "cell_type": "code",
   "execution_count": 72,
   "metadata": {},
   "outputs": [
    {
     "data": {
      "text/plain": [
       "array([[ 0.14453125,  0.21875   , 71.        , 53.        ],\n",
       "       [ 0.14583333,  0.38932292, 49.        , 61.        ],\n",
       "       [ 0.47135417,  0.52994792, 70.        , 54.        ],\n",
       "       ...,\n",
       "       [29.2578125 , 29.98958333, 61.        , 65.        ],\n",
       "       [29.84635417, 29.98958333, 64.        , 59.        ],\n",
       "       [29.80729167, 29.98958333, 66.        , 58.        ]])"
      ]
     },
     "execution_count": 72,
     "metadata": {},
     "output_type": "execute_result"
    }
   ],
   "source": [
    "b = []\n",
    "for note in transcribed_midi.instruments[0].notes:\n",
    "    b.append([note.start, note.end, note.pitch, note.velocity])\n",
    "b = np.array(b)\n",
    "b"
   ]
  },
  {
   "cell_type": "code",
   "execution_count": 76,
   "metadata": {},
   "outputs": [
    {
     "data": {
      "text/plain": [
       "(2, 88, 3000)"
      ]
     },
     "execution_count": 76,
     "metadata": {},
     "output_type": "execute_result"
    }
   ],
   "source": [
    "b_pr = create_piano_roll(b, fs=100)\n",
    "b_pr.shape"
   ]
  },
  {
   "cell_type": "code",
   "execution_count": 45,
   "metadata": {},
   "outputs": [],
   "source": [
    "transcribed_midi = pretty_midi.PrettyMIDI(midi_path.replace(\".midi\", \"_bytedance_60.mid\"))"
   ]
  },
  {
   "cell_type": "code",
   "execution_count": 46,
   "metadata": {},
   "outputs": [],
   "source": [
    "t_pr = transcribed_midi.instruments[0].get_piano_roll(fs=100)"
   ]
  },
  {
   "cell_type": "code",
   "execution_count": 47,
   "metadata": {},
   "outputs": [],
   "source": [
    "t_pr_booled = t_pr > 0"
   ]
  },
  {
   "cell_type": "code",
   "execution_count": 48,
   "metadata": {},
   "outputs": [],
   "source": [
    "t_onset = transcribed_midi.instruments[0].get_onsets()\n",
    "# t_onset"
   ]
  },
  {
   "cell_type": "code",
   "execution_count": 49,
   "metadata": {},
   "outputs": [
    {
     "data": {
      "text/plain": [
       "(128, 2998)"
      ]
     },
     "execution_count": 49,
     "metadata": {},
     "output_type": "execute_result"
    }
   ],
   "source": [
    "t_pr.shape"
   ]
  },
  {
   "cell_type": "code",
   "execution_count": 50,
   "metadata": {},
   "outputs": [
    {
     "data": {
      "text/plain": [
       "(88, 2998)"
      ]
     },
     "execution_count": 50,
     "metadata": {},
     "output_type": "execute_result"
    }
   ],
   "source": [
    "t_pr[21:109].shape"
   ]
  },
  {
   "cell_type": "code",
   "execution_count": 51,
   "metadata": {},
   "outputs": [
    {
     "data": {
      "text/plain": [
       "(88, 2998)"
      ]
     },
     "execution_count": 51,
     "metadata": {},
     "output_type": "execute_result"
    }
   ],
   "source": [
    "t_pr_booled[21:109].shape"
   ]
  },
  {
   "cell_type": "code",
   "execution_count": 52,
   "metadata": {},
   "outputs": [],
   "source": [
    "import matplotlib.pyplot as plt"
   ]
  },
  {
   "cell_type": "code",
   "execution_count": 53,
   "metadata": {},
   "outputs": [
    {
     "data": {
      "text/plain": [
       "<matplotlib.image.AxesImage at 0x7f30c146fa90>"
      ]
     },
     "execution_count": 53,
     "metadata": {},
     "output_type": "execute_result"
    },
    {
     "data": {
      "image/png": "[encoded data removed]",
      "text/plain": [
       "<Figure size 640x480 with 1 Axes>"
      ]
     },
     "metadata": {},
     "output_type": "display_data"
    }
   ],
   "source": [
    "plt.imshow((pm_sliced_pr > 0)[21:109], aspect='auto', origin='lower', interpolation='none')"
   ]
  },
  {
   "cell_type": "code",
   "execution_count": 54,
   "metadata": {},
   "outputs": [
    {
     "data": {
      "text/plain": [
       "<matplotlib.image.AxesImage at 0x7f30c148e430>"
      ]
     },
     "execution_count": 54,
     "metadata": {},
     "output_type": "execute_result"
    },
    {
     "data": {
      "image/png": "[encoded data removed]",
      "text/plain": [
       "<Figure size 640x480 with 1 Axes>"
      ]
     },
     "metadata": {},
     "output_type": "display_data"
    }
   ],
   "source": [
    "plt.imshow(t_pr_booled[21:109], aspect='auto', origin='lower', interpolation='none')"
   ]
  },
  {
   "cell_type": "code",
   "execution_count": 22,
   "metadata": {},
   "outputs": [
    {
     "data": {
      "text/plain": [
       "<matplotlib.image.AxesImage at 0x7f30bcec12b0>"
      ]
     },
     "execution_count": 22,
     "metadata": {},
     "output_type": "execute_result"
    },
    {
     "data": {
      "image/png": "[encoded data removed]",
      "text/plain": [
       "<Figure size 640x480 with 1 Axes>"
      ]
     },
     "metadata": {},
     "output_type": "display_data"
    }
   ],
   "source": [
    "plt.imshow(t_pr[21:109], aspect='auto', origin='lower')"
   ]
  },
  {
   "cell_type": "code",
   "execution_count": 14,
   "metadata": {},
   "outputs": [
    {
     "data": {
      "text/plain": [
       "(array([56, 68, 56, 52, 68, 64, 68, 73, 64, 68, 52, 56, 45, 57, 52, 52, 45,\n",
       "        57, 68, 64, 61, 67, 52, 67, 55, 45, 67, 55, 52, 52, 67, 55, 52, 61,\n",
       "        68, 52, 55, 45, 61, 67, 52, 55, 61, 57, 68, 55, 52, 49, 74, 45, 61,\n",
       "        52, 56, 64, 67, 57, 68, 73, 49, 55, 52, 52, 64, 46, 52, 64, 68, 52,\n",
       "        64, 68, 58, 46, 61, 66, 52, 68, 56, 52, 68, 64, 52, 56, 52, 61, 64,\n",
       "        61, 68, 52, 56, 66, 56, 68, 64, 49, 56, 52, 67, 61, 52, 67, 57, 52,\n",
       "        67, 61, 57, 67, 55, 52, 64, 64, 67, 45, 57, 61, 64, 52, 67, 57, 55,\n",
       "        49, 64, 73, 73, 64, 57, 52, 45, 55, 67, 49, 61, 66, 52, 68, 54, 64,\n",
       "        49, 68, 73, 66, 54, 64, 70, 52, 49, 68, 56, 56, 68, 64, 68, 56, 49,\n",
       "        68, 71, 68, 52, 68, 49, 61, 56, 52, 68, 52, 60, 68, 48, 68, 52, 60,\n",
       "        64, 68, 59, 52, 56, 64, 68, 71, 52, 48, 60, 64, 52, 68, 60, 45, 52,\n",
       "        60, 64, 68, 64, 52, 60, 57, 60, 68, 56, 52, 64, 48, 60, 57, 45, 69,\n",
       "        71, 64, 56, 52, 68, 64, 68, 59, 56, 63, 60, 56, 45, 48, 60, 69, 45,\n",
       "        57, 63, 52, 66, 60, 64, 65, 53, 59, 68, 56, 67, 63, 67, 45, 63, 55,\n",
       "        45, 66, 57, 63, 56, 68, 63, 56, 68, 60, 68, 63, 51, 56, 56, 60, 68,\n",
       "        63, 48, 44, 68, 56, 67, 63, 60, 68, 72, 60, 68, 63, 60, 56, 63, 68,\n",
       "        69, 60, 68, 60, 63, 68, 68, 60, 63, 68, 63, 60, 68, 63, 68, 56, 60,\n",
       "        69, 63, 56, 63, 68, 60, 63, 68, 60, 48, 56, 68, 52, 60, 68, 63, 51,\n",
       "        68, 64, 63, 60, 48, 67, 68, 63, 56, 63, 69, 52, 63, 57, 69, 63, 51,\n",
       "        59, 57, 51, 63, 63, 57, 59, 63, 47, 69, 53, 53, 57, 69, 53, 57, 47,\n",
       "        47, 53, 59, 62, 53, 57, 69, 51, 52, 60, 59, 63, 41, 66, 50, 47, 71,\n",
       "        69, 65, 69, 62, 65, 69, 65, 53, 69, 65, 62, 65, 57, 65, 68, 62, 65,\n",
       "        57, 61, 56, 45, 53, 61, 57, 45, 57, 45, 57, 49, 61, 65, 49, 45, 57,\n",
       "        61, 49, 57, 49, 49, 68, 57, 49, 61, 45, 49, 57, 61, 49, 57, 66, 57,\n",
       "        45, 60, 61, 49, 45, 57, 66, 54, 67, 45, 65, 42, 60, 41, 53, 57, 63,\n",
       "        56, 61, 64, 66, 68, 57, 61, 67, 54, 57, 66, 64, 49, 54, 61, 57, 69,\n",
       "        50, 42, 57, 42, 57, 50, 62, 69, 42, 50, 57, 54, 42, 69, 57, 42, 42,\n",
       "        57, 61, 69, 54, 66, 42, 57, 59, 61, 69, 63, 61, 57, 69, 61, 51, 61,\n",
       "        57, 51, 61, 57, 61, 51, 57, 61, 69, 51, 62, 51, 57, 51, 57, 61, 63,\n",
       "        61, 63, 51, 42, 61, 50, 57, 69, 61, 51, 63, 51, 57, 63, 56, 68, 51,\n",
       "        63, 68, 63, 68, 63, 44, 68, 63, 60, 68, 63, 56, 60, 68, 64, 68, 63,\n",
       "        72, 52, 63, 68, 60, 63, 63, 68, 60, 60, 68, 69, 56, 63, 51, 68, 44,\n",
       "        63, 60, 68, 68, 52, 68, 68, 68, 68, 68, 52, 68, 60, 68, 63, 68, 61,\n",
       "        61, 56, 67, 68, 60, 48, 66, 63, 54, 57, 68, 61, 64, 52, 45, 63, 52,\n",
       "        61, 67, 67, 61, 55, 61, 63, 45, 52, 67, 66, 61, 64, 52, 67, 61, 48,\n",
       "        67, 52, 67, 61, 66, 55, 63, 67, 61, 64, 60, 56, 52, 68, 63, 52, 61,\n",
       "        48, 54, 61, 68, 67, 58, 63, 52, 68, 52, 61, 66, 68, 60, 63, 52, 61,\n",
       "        68, 66, 56, 64, 68, 61, 59, 61, 67, 61, 52, 67, 67, 61, 67, 52, 61,\n",
       "        60, 67, 64, 60, 63, 52, 61, 55, 67, 52, 61, 67, 66, 52, 55, 64, 45,\n",
       "        68, 59, 60, 66, 64, 57, 61, 68, 67, 48, 60, 58, 61, 52, 66, 68, 64,\n",
       "        64, 61, 57, 68, 61, 64, 68, 68, 60, 45, 57, 64, 56, 61, 66, 60, 56,\n",
       "        68, 59, 56, 68, 68, 60, 68, 60, 66, 62, 60, 68, 66, 45, 61, 49, 45,\n",
       "        57, 60, 61, 66, 68, 71]),\n",
       " array([[ 1.03645833,  1.26953125],\n",
       "        [ 1.03125   ,  1.26953125],\n",
       "        [ 1.27864583,  1.40885417],\n",
       "        ...,\n",
       "        [29.88541667, 29.98958333],\n",
       "        [29.8828125 , 29.98958333],\n",
       "        [29.74479167, 29.98958333]]))"
      ]
     },
     "execution_count": 14,
     "metadata": {},
     "output_type": "execute_result"
    }
   ],
   "source": [
    "# b_pitches = []\n",
    "# b_intervals = []\n",
    "# for note in transcribed_midi.instruments[0].notes:\n",
    "#     b_pitches.append(note.pitch)\n",
    "#     b_intervals.append([note.start, note.end])\n",
    "# b_pitches = np.array(b_pitches)\n",
    "# b_intervals = np.array(b_intervals)\n",
    "# b_pitches, b_intervals"
   ]
  },
  {
   "cell_type": "code",
   "execution_count": 13,
   "metadata": {},
   "outputs": [],
   "source": [
    "import note_eval"
   ]
  },
  {
   "cell_type": "code",
   "execution_count": 15,
   "metadata": {},
   "outputs": [
    {
     "ename": "TypeError",
     "evalue": "slice indices must be integers or None or have an __index__ method",
     "output_type": "error",
     "traceback": [
      "\u001b[0;31m---------------------------------------------------------------------------\u001b[0m",
      "\u001b[0;31mTypeError\u001b[0m                                 Traceback (most recent call last)",
      "Cell \u001b[0;32mIn[15], line 1\u001b[0m\n\u001b[0;32m----> 1\u001b[0m c \u001b[38;5;241m=\u001b[39m \u001b[43mnote_eval\u001b[49m\u001b[38;5;241;43m.\u001b[39;49m\u001b[43mnotes_to_frames\u001b[49m\u001b[43m(\u001b[49m\u001b[43mb_pitches\u001b[49m\u001b[43m,\u001b[49m\u001b[43m \u001b[49m\u001b[43mb_intervals\u001b[49m\u001b[43m,\u001b[49m\u001b[43m \u001b[49m\u001b[43m[\u001b[49m\u001b[38;5;241;43m3000\u001b[39;49m\u001b[43m,\u001b[49m\u001b[43m \u001b[49m\u001b[38;5;241;43m88\u001b[39;49m\u001b[43m]\u001b[49m\u001b[43m)\u001b[49m\n",
      "File \u001b[0;32m~/userdata/piano_transcription/note_eval.py:132\u001b[0m, in \u001b[0;36mnotes_to_frames\u001b[0;34m(pitches, intervals, shape)\u001b[0m\n\u001b[1;32m    130\u001b[0m roll \u001b[38;5;241m=\u001b[39m np\u001b[38;5;241m.\u001b[39mzeros(\u001b[38;5;28mtuple\u001b[39m(shape))\n\u001b[1;32m    131\u001b[0m \u001b[38;5;28;01mfor\u001b[39;00m pitch, (onset, offset) \u001b[38;5;129;01min\u001b[39;00m \u001b[38;5;28mzip\u001b[39m(pitches, intervals):\n\u001b[0;32m--> 132\u001b[0m     \u001b[43mroll\u001b[49m\u001b[43m[\u001b[49m\u001b[43monset\u001b[49m\u001b[43m:\u001b[49m\u001b[43moffset\u001b[49m\u001b[43m,\u001b[49m\u001b[43m \u001b[49m\u001b[43mpitch\u001b[49m\u001b[43m]\u001b[49m \u001b[38;5;241m=\u001b[39m \u001b[38;5;241m1\u001b[39m\n\u001b[1;32m    134\u001b[0m time \u001b[38;5;241m=\u001b[39m np\u001b[38;5;241m.\u001b[39marange(roll\u001b[38;5;241m.\u001b[39mshape[\u001b[38;5;241m0\u001b[39m])\n\u001b[1;32m    135\u001b[0m freqs \u001b[38;5;241m=\u001b[39m [roll[t, :]\u001b[38;5;241m.\u001b[39mnonzero()[\u001b[38;5;241m0\u001b[39m] \u001b[38;5;28;01mfor\u001b[39;00m t \u001b[38;5;129;01min\u001b[39;00m time]\n",
      "\u001b[0;31mTypeError\u001b[0m: slice indices must be integers or None or have an __index__ method"
     ]
    }
   ],
   "source": [
    "c = note_eval.notes_to_frames(b_pitches, b_intervals, [3000, 88])"
   ]
  },
  {
   "cell_type": "code",
   "execution_count": null,
   "metadata": {},
   "outputs": [],
   "source": [
    "for i in range(int(pm_loaded.instruments[0].notes[-1].end//30)):\n",
    "    sliced_midi = slice_midi(pm_loaded, i*30, (i+1)*30)\n",
    "    transcribed_midi = pretty_midi.PrettyMIDI(midi_path.replace(\".midi\", \"_bytedance_{}.mid\".format(i*30)))\n",
    "\n",
    "    a = []\n",
    "    for note in sliced_midi.instruments[0].notes:\n",
    "        a.append([note.start, note.end, note.pitch, note.velocity])\n",
    "    a = np.array(a)\n",
    "    np.save(midi_path.replace(\".midi\", \"_bytedance_{}.npy\".format(i*30)), a)\n",
    "\n",
    "    transcribed_midi.instruments[0].notes = sliced_midi.instruments[0].notes\n",
    "    transcribed_midi.write(midi_path.replace(\".midi\", \"_bytedance_{}.mid\".format(i*30)))\n",
    "\n",
    "    print(i, \"done\")"
   ]
  },
  {
   "cell_type": "code",
   "execution_count": null,
   "metadata": {},
   "outputs": [],
   "source": [
    "for dirpath, dirnames, filenames in os.walk(\"/home/jongmin/userdata/MAESTRO/maestro-v3.0.0/\"):\n",
    "    for filename in tqdm([f for f in filenames if f.endswith(\".midi\")]):\n",
    "        "
   ]
  },
  {
   "cell_type": "code",
   "execution_count": 80,
   "metadata": {},
   "outputs": [],
   "source": [
    "splits = torch.load(\"/home/jongmin/userdata/MAESTRO/maestro-v3.0.0/maestro-v3.0.0_split.pt\")\n",
    "val_split = splits[\"validation\"]"
   ]
  },
  {
   "cell_type": "code",
   "execution_count": 81,
   "metadata": {},
   "outputs": [],
   "source": [
    "root = \"/home/jongmin/userdata/MAESTRO/maestro-v3.0.0/\""
   ]
  },
  {
   "cell_type": "code",
   "execution_count": 93,
   "metadata": {},
   "outputs": [
    {
     "name": "stdout",
     "output_type": "stream",
     "text": [
      "/home/jongmin/userdata/MAESTRO/maestro-v3.0.0/2006/MIDI-Unprocessed_17_R1_2006_01-06_ORIG_MID--AUDIO_17_R1_2006_04_Track04_wav.midi\n"
     ]
    },
    {
     "name": "stderr",
     "output_type": "stream",
     "text": [
      "/home/jongmin/.local/share/virtualenvs/audiocraft-ssbSDm-j/lib/python3.8/site-packages/mir_eval/multipitch.py:276: UserWarning: Estimate frequencies are all empty.\n",
      "  warnings.warn(\"Estimate frequencies are all empty.\")\n",
      "/home/jongmin/.local/share/virtualenvs/audiocraft-ssbSDm-j/lib/python3.8/site-packages/mir_eval/multipitch.py:283: UserWarning: Reference frequencies are all empty.\n",
      "  warnings.warn(\"Reference frequencies are all empty.\")\n",
      "/home/jongmin/.local/share/virtualenvs/audiocraft-ssbSDm-j/lib/python3.8/site-packages/mir_eval/multipitch.py:323: UserWarning: Reference frequencies are all empty.\n",
      "  warnings.warn(\"Reference frequencies are all empty.\")\n"
     ]
    },
    {
     "name": "stdout",
     "output_type": "stream",
     "text": [
      "defaultdict(<class 'list'>, {'metric/note/precision': [0.6038647342995169], 'metric/note/recall': [0.3250975292587776], 'metric/note/f1': [0.42265426880811496], 'metric/note/overlap': [0.31124526118335316], 'metric/note-with-offsets/precision': [0.07004830917874397], 'metric/note-with-offsets/recall': [0.0377113133940182], 'metric/note-with-offsets/f1': [0.04902789518174133], 'metric/note-with-offsets/overlap': [0.6880102940466336], 'metric/frame/f1': [0.0], 'metric/frame/precision': [0.0], 'metric/frame/recall': [0.0], 'metric/frame/accuracy': [0.0], 'metric/frame/substitution_error': [0.0], 'metric/frame/miss_error': [0.0], 'metric/frame/false_alarm_error': [0.0], 'metric/frame/total_error': [0.0], 'metric/frame/chroma_precision': [0.0], 'metric/frame/chroma_recall': [0.0], 'metric/frame/chroma_accuracy': [0.0], 'metric/frame/chroma_substitution_error': [0.0], 'metric/frame/chroma_miss_error': [0.0], 'metric/frame/chroma_false_alarm_error': [0.0], 'metric/frame/chroma_total_error': [0.0]})\n",
      "defaultdict(<class 'list'>, {'metric/note/precision': [0.6666666666666666], 'metric/note/recall': [0.19718309859154928], 'metric/note/f1': [0.3043478260869565], 'metric/note/overlap': [0.3806409655792539], 'metric/note-with-offsets/precision': [0.11904761904761904], 'metric/note-with-offsets/recall': [0.035211267605633804], 'metric/note-with-offsets/f1': [0.05434782608695653], 'metric/note-with-offsets/overlap': [0.7616940995021635], 'metric/frame/f1': [0.34645669291338593], 'metric/frame/precision': [1.0], 'metric/frame/recall': [0.20952380952380953], 'metric/frame/accuracy': [0.20952380952380953], 'metric/frame/substitution_error': [0.0], 'metric/frame/miss_error': [0.7904761904761904], 'metric/frame/false_alarm_error': [0.0], 'metric/frame/total_error': [0.7904761904761904], 'metric/frame/chroma_precision': [1.0], 'metric/frame/chroma_recall': [0.20952380952380953], 'metric/frame/chroma_accuracy': [0.20952380952380953], 'metric/frame/chroma_substitution_error': [0.0], 'metric/frame/chroma_miss_error': [0.7904761904761904], 'metric/frame/chroma_false_alarm_error': [0.0], 'metric/frame/chroma_total_error': [0.7904761904761904]})\n",
      "defaultdict(<class 'list'>, {'metric/note/precision': [0.6141732283464567], 'metric/note/recall': [0.2608695652173913], 'metric/note/f1': [0.3661971830985915], 'metric/note/overlap': [0.35946366712538713], 'metric/note-with-offsets/precision': [0.07086614173228346], 'metric/note-with-offsets/recall': [0.030100334448160536], 'metric/note-with-offsets/f1': [0.04225352112676057], 'metric/note-with-offsets/overlap': [0.7967996882360193], 'metric/frame/f1': [0.5547445255474452], 'metric/frame/precision': [0.8837209302325582], 'metric/frame/recall': [0.40425531914893614], 'metric/frame/accuracy': [0.3838383838383838], 'metric/frame/substitution_error': [0.03723404255319149], 'metric/frame/miss_error': [0.5585106382978723], 'metric/frame/false_alarm_error': [0.015957446808510637], 'metric/frame/total_error': [0.6117021276595744], 'metric/frame/chroma_precision': [0.9069767441860465], 'metric/frame/chroma_recall': [0.4148936170212766], 'metric/frame/chroma_accuracy': [0.3979591836734694], 'metric/frame/chroma_substitution_error': [0.026595744680851064], 'metric/frame/chroma_miss_error': [0.5585106382978723], 'metric/frame/chroma_false_alarm_error': [0.015957446808510637], 'metric/frame/chroma_total_error': [0.601063829787234]})\n",
      "defaultdict(<class 'list'>, {'metric/note/precision': [0.6632390745501285], 'metric/note/recall': [0.35488308115543327], 'metric/note/f1': [0.46236559139784944], 'metric/note/overlap': [0.3685014511230716], 'metric/note-with-offsets/precision': [0.17737789203084833], 'metric/note-with-offsets/recall': [0.09491059147180192], 'metric/note-with-offsets/f1': [0.12365591397849462], 'metric/note-with-offsets/overlap': [0.6595288811535918], 'metric/frame/f1': [0.6028708133971292], 'metric/frame/precision': [0.9], 'metric/frame/recall': [0.45323741007194246], 'metric/frame/accuracy': [0.4315068493150685], 'metric/frame/substitution_error': [0.04316546762589928], 'metric/frame/miss_error': [0.5035971223021583], 'metric/frame/false_alarm_error': [0.007194244604316547], 'metric/frame/total_error': [0.5539568345323741], 'metric/frame/chroma_precision': [0.9], 'metric/frame/chroma_recall': [0.45323741007194246], 'metric/frame/chroma_accuracy': [0.4315068493150685], 'metric/frame/chroma_substitution_error': [0.04316546762589928], 'metric/frame/chroma_miss_error': [0.5035971223021583], 'metric/frame/chroma_false_alarm_error': [0.007194244604316547], 'metric/frame/chroma_total_error': [0.5539568345323741]})\n",
      "defaultdict(<class 'list'>, {'metric/note/precision': [0.6329588014981273], 'metric/note/recall': [0.26120556414219476], 'metric/note/f1': [0.36980306345733044], 'metric/note/overlap': [0.3655934149063036], 'metric/note-with-offsets/precision': [0.11610486891385768], 'metric/note-with-offsets/recall': [0.04791344667697063], 'metric/note-with-offsets/f1': [0.06783369803063458], 'metric/note-with-offsets/overlap': [0.7935060618500054], 'metric/frame/f1': [0.47427293064876963], 'metric/frame/precision': [0.6463414634146342], 'metric/frame/recall': [0.3745583038869258], 'metric/frame/accuracy': [0.31085043988269795], 'metric/frame/substitution_error': [0.127208480565371], 'metric/frame/miss_error': [0.49823321554770317], 'metric/frame/false_alarm_error': [0.07773851590106007], 'metric/frame/total_error': [0.7031802120141343], 'metric/frame/chroma_precision': [0.676829268292683], 'metric/frame/chroma_recall': [0.392226148409894], 'metric/frame/chroma_accuracy': [0.33035714285714285], 'metric/frame/chroma_substitution_error': [0.10954063604240283], 'metric/frame/chroma_miss_error': [0.49823321554770317], 'metric/frame/chroma_false_alarm_error': [0.07773851590106007], 'metric/frame/chroma_total_error': [0.6855123674911661]})\n",
      "defaultdict(<class 'list'>, {'metric/note/precision': [0.6629834254143646], 'metric/note/recall': [0.25210084033613445], 'metric/note/f1': [0.36529680365296807], 'metric/note/overlap': [0.3528309328280064], 'metric/note-with-offsets/precision': [0.11602209944751381], 'metric/note-with-offsets/recall': [0.04411764705882353], 'metric/note-with-offsets/f1': [0.0639269406392694], 'metric/note-with-offsets/overlap': [0.7064511220244792], 'metric/frame/f1': [0.4000000000000001], 'metric/frame/precision': [0.987012987012987], 'metric/frame/recall': [0.2508250825082508], 'metric/frame/accuracy': [0.25], 'metric/frame/substitution_error': [0.0033003300330033004], 'metric/frame/miss_error': [0.7458745874587459], 'metric/frame/false_alarm_error': [0.0], 'metric/frame/total_error': [0.7491749174917491], 'metric/frame/chroma_precision': [0.987012987012987], 'metric/frame/chroma_recall': [0.2508250825082508], 'metric/frame/chroma_accuracy': [0.25], 'metric/frame/chroma_substitution_error': [0.0033003300330033004], 'metric/frame/chroma_miss_error': [0.7458745874587459], 'metric/frame/chroma_false_alarm_error': [0.0], 'metric/frame/chroma_total_error': [0.7491749174917491]})\n",
      "defaultdict(<class 'list'>, {'metric/note/precision': [0.7945205479452054], 'metric/note/recall': [0.18354430379746836], 'metric/note/f1': [0.2982005141388175], 'metric/note/overlap': [0.4443195591654265], 'metric/note-with-offsets/precision': [0.1095890410958904], 'metric/note-with-offsets/recall': [0.02531645569620253], 'metric/note-with-offsets/f1': [0.04113110539845759], 'metric/note-with-offsets/overlap': [0.8885564856286563], 'metric/frame/f1': [0.0], 'metric/frame/precision': [0.0], 'metric/frame/recall': [0.0], 'metric/frame/accuracy': [0.0], 'metric/frame/substitution_error': [0.0], 'metric/frame/miss_error': [0.0], 'metric/frame/false_alarm_error': [0.0], 'metric/frame/total_error': [0.0], 'metric/frame/chroma_precision': [0.0], 'metric/frame/chroma_recall': [0.0], 'metric/frame/chroma_accuracy': [0.0], 'metric/frame/chroma_substitution_error': [0.0], 'metric/frame/chroma_miss_error': [0.0], 'metric/frame/chroma_false_alarm_error': [0.0], 'metric/frame/chroma_total_error': [0.0]})\n",
      "defaultdict(<class 'list'>, {'metric/note/precision': [0.5738636363636364], 'metric/note/recall': [0.24754901960784315], 'metric/note/f1': [0.3458904109589041], 'metric/note/overlap': [0.41825880123186154], 'metric/note-with-offsets/precision': [0.14204545454545456], 'metric/note-with-offsets/recall': [0.061274509803921566], 'metric/note-with-offsets/f1': [0.08561643835616439], 'metric/note-with-offsets/overlap': [0.7535473160719042], 'metric/frame/f1': [0.0], 'metric/frame/precision': [0.0], 'metric/frame/recall': [0.0], 'metric/frame/accuracy': [0.0], 'metric/frame/substitution_error': [0.0], 'metric/frame/miss_error': [1.0], 'metric/frame/false_alarm_error': [0.0], 'metric/frame/total_error': [1.0], 'metric/frame/chroma_precision': [0.0], 'metric/frame/chroma_recall': [0.0], 'metric/frame/chroma_accuracy': [0.0], 'metric/frame/chroma_substitution_error': [0.0], 'metric/frame/chroma_miss_error': [1.0], 'metric/frame/chroma_false_alarm_error': [0.0], 'metric/frame/chroma_total_error': [1.0]})\n",
      "defaultdict(<class 'list'>, {'metric/note/precision': [0.6979166666666666], 'metric/note/recall': [0.1925287356321839], 'metric/note/f1': [0.3018018018018018], 'metric/note/overlap': [0.4913909675862037], 'metric/note-with-offsets/precision': [0.11458333333333333], 'metric/note-with-offsets/recall': [0.031609195402298854], 'metric/note-with-offsets/f1': [0.04954954954954955], 'metric/note-with-offsets/overlap': [0.8846255057727657], 'metric/frame/f1': [0.6776315789473685], 'metric/frame/precision': [0.9809523809523809], 'metric/frame/recall': [0.5175879396984925], 'metric/frame/accuracy': [0.5124378109452736], 'metric/frame/substitution_error': [0.010050251256281407], 'metric/frame/miss_error': [0.4723618090452261], 'metric/frame/false_alarm_error': [0.0], 'metric/frame/total_error': [0.4824120603015075], 'metric/frame/chroma_precision': [0.9904761904761905], 'metric/frame/chroma_recall': [0.5226130653266332], 'metric/frame/chroma_accuracy': [0.52], 'metric/frame/chroma_substitution_error': [0.005025125628140704], 'metric/frame/chroma_miss_error': [0.4723618090452261], 'metric/frame/chroma_false_alarm_error': [0.0], 'metric/frame/chroma_total_error': [0.47738693467336685]})\n",
      "defaultdict(<class 'list'>, {'metric/note/precision': [0.6931818181818182], 'metric/note/recall': [0.2089041095890411], 'metric/note/f1': [0.32105263157894737], 'metric/note/overlap': [0.3974387430058786], 'metric/note-with-offsets/precision': [0.16477272727272727], 'metric/note-with-offsets/recall': [0.04965753424657534], 'metric/note-with-offsets/f1': [0.07631578947368421], 'metric/note-with-offsets/overlap': [0.7302572301664765], 'metric/frame/f1': [0.08125000000000018], 'metric/frame/precision': [1.0], 'metric/frame/recall': [0.04234527687296417], 'metric/frame/accuracy': [0.04234527687296417], 'metric/frame/substitution_error': [0.0], 'metric/frame/miss_error': [0.9576547231270358], 'metric/frame/false_alarm_error': [0.0], 'metric/frame/total_error': [0.9576547231270358], 'metric/frame/chroma_precision': [1.0], 'metric/frame/chroma_recall': [0.04234527687296417], 'metric/frame/chroma_accuracy': [0.04234527687296417], 'metric/frame/chroma_substitution_error': [0.0], 'metric/frame/chroma_miss_error': [0.9576547231270358], 'metric/frame/chroma_false_alarm_error': [0.0], 'metric/frame/chroma_total_error': [0.9576547231270358]})\n",
      "defaultdict(<class 'list'>, {'metric/note/precision': [0.5389221556886228], 'metric/note/recall': [0.38461538461538464], 'metric/note/f1': [0.4488778054862843], 'metric/note/overlap': [0.2935108777251429], 'metric/note-with-offsets/precision': [0.08582834331337326], 'metric/note-with-offsets/recall': [0.06125356125356125], 'metric/note-with-offsets/f1': [0.07148794679966751], 'metric/note-with-offsets/overlap': [0.6811280450815322], 'metric/frame/f1': [0.0], 'metric/frame/precision': [0.0], 'metric/frame/recall': [0.0], 'metric/frame/accuracy': [0.0], 'metric/frame/substitution_error': [0.0], 'metric/frame/miss_error': [1.0], 'metric/frame/false_alarm_error': [0.0], 'metric/frame/total_error': [1.0], 'metric/frame/chroma_precision': [0.0], 'metric/frame/chroma_recall': [0.0], 'metric/frame/chroma_accuracy': [0.0], 'metric/frame/chroma_substitution_error': [0.0], 'metric/frame/chroma_miss_error': [1.0], 'metric/frame/chroma_false_alarm_error': [0.0], 'metric/frame/chroma_total_error': [1.0]})\n",
      "defaultdict(<class 'list'>, {'metric/note/precision': [0.4991119005328597], 'metric/note/recall': [0.38812154696132595], 'metric/note/f1': [0.4366744366744367], 'metric/note/overlap': [0.3025838971734158], 'metric/note-with-offsets/precision': [0.06927175843694494], 'metric/note-with-offsets/recall': [0.05386740331491713], 'metric/note-with-offsets/f1': [0.06060606060606061], 'metric/note-with-offsets/overlap': [0.7361367458078008], 'metric/frame/f1': [0.23123123123123138], 'metric/frame/precision': [0.8850574712643678], 'metric/frame/recall': [0.13298791018998274], 'metric/frame/accuracy': [0.1307300509337861], 'metric/frame/substitution_error': [0.017271157167530225], 'metric/frame/miss_error': [0.8497409326424871], 'metric/frame/false_alarm_error': [0.0], 'metric/frame/total_error': [0.8670120898100173], 'metric/frame/chroma_precision': [0.8850574712643678], 'metric/frame/chroma_recall': [0.13298791018998274], 'metric/frame/chroma_accuracy': [0.1307300509337861], 'metric/frame/chroma_substitution_error': [0.017271157167530225], 'metric/frame/chroma_miss_error': [0.8497409326424871], 'metric/frame/chroma_false_alarm_error': [0.0], 'metric/frame/chroma_total_error': [0.8670120898100173]})\n",
      "defaultdict(<class 'list'>, {'metric/note/precision': [0.5149911816578483], 'metric/note/recall': [0.3734015345268542], 'metric/note/f1': [0.4329132690882135], 'metric/note/overlap': [0.32720303063751693], 'metric/note-with-offsets/precision': [0.10229276895943562], 'metric/note-with-offsets/recall': [0.0741687979539642], 'metric/note-with-offsets/f1': [0.08598962194217939], 'metric/note-with-offsets/overlap': [0.6911815196297947], 'metric/frame/f1': [0.21649484536082486], 'metric/frame/precision': [0.8235294117647058], 'metric/frame/recall': [0.12462908011869436], 'metric/frame/accuracy': [0.12138728323699421], 'metric/frame/substitution_error': [0.026706231454005934], 'metric/frame/miss_error': [0.8486646884272997], 'metric/frame/false_alarm_error': [0.0], 'metric/frame/total_error': [0.8753709198813057], 'metric/frame/chroma_precision': [0.9803921568627451], 'metric/frame/chroma_recall': [0.14836795252225518], 'metric/frame/chroma_accuracy': [0.14792899408284024], 'metric/frame/chroma_substitution_error': [0.002967359050445104], 'metric/frame/chroma_miss_error': [0.8486646884272997], 'metric/frame/chroma_false_alarm_error': [0.0], 'metric/frame/chroma_total_error': [0.8516320474777448]})\n",
      "defaultdict(<class 'list'>, {'metric/note/precision': [0.06851549755301795], 'metric/note/recall': [0.05303030303030303], 'metric/note/f1': [0.0597864768683274], 'metric/note/overlap': [0.37297888628592846], 'metric/note-with-offsets/precision': [0.01794453507340946], 'metric/note-with-offsets/recall': [0.013888888888888888], 'metric/note-with-offsets/f1': [0.01565836298932384], 'metric/note-with-offsets/overlap': [0.6611471861471883], 'metric/frame/f1': [0.005390835579514879], 'metric/frame/precision': [0.010638297872340425], 'metric/frame/recall': [0.0036101083032490976], 'metric/frame/accuracy': [0.002702702702702703], 'metric/frame/substitution_error': [0.18772563176895307], 'metric/frame/miss_error': [0.8086642599277978], 'metric/frame/false_alarm_error': [0.148014440433213], 'metric/frame/total_error': [1.144404332129964], 'metric/frame/chroma_precision': [0.0851063829787234], 'metric/frame/chroma_recall': [0.02888086642599278], 'metric/frame/chroma_accuracy': [0.02203856749311295], 'metric/frame/chroma_substitution_error': [0.1624548736462094], 'metric/frame/chroma_miss_error': [0.8086642599277978], 'metric/frame/chroma_false_alarm_error': [0.148014440433213], 'metric/frame/chroma_total_error': [1.1191335740072201]})\n"
     ]
    }
   ],
   "source": [
    "label_path = os.path.join(root, val_split[0])\n",
    "print(label_path)\n",
    "label = pretty_midi.PrettyMIDI(label_path)\n",
    "length_sec = label.instruments[0].notes[-1].end\n",
    "metrics = []\n",
    "for i in range(int(length_sec//30)):\n",
    "    label_midi = slice_midi(label, i*30, (i+1)*30)\n",
    "    transcribed_midi = pretty_midi.PrettyMIDI(label_path.replace(\".midi\", \"_bytedance_{}.mid\".format(i*30)))\n",
    "\n",
    "    label_array = []\n",
    "    for note in label_midi.instruments[0].notes:\n",
    "        label_array.append([note.start, note.end, note.pitch, note.velocity])\n",
    "    label_array = np.array(label_array)\n",
    "    label_pr = create_piano_roll(label_array, fs=100)\n",
    "\n",
    "    transcribed_array = []\n",
    "    for note in transcribed_midi.instruments[0].notes:\n",
    "        transcribed_array.append([note.start, note.end, note.pitch, note.velocity])\n",
    "    transcribed_array = np.array(transcribed_array)\n",
    "    transcribed_pr = create_piano_roll(transcribed_array, fs=100)\n",
    "\n",
    "    metric = note_eval.evaluate(torch.Tensor(label_pr), torch.Tensor(transcribed_pr))\n",
    "    print(metric)\n",
    "    metrics.append(metric)\n",
    "label_midi = slice_midi(label, length_sec-30, length_sec)\n",
    "transcribed_midi = pretty_midi.PrettyMIDI(label_path.replace(\".midi\", \"_bytedance_{}.mid\".format(-1)))\n",
    "\n",
    "label_array = []\n",
    "for note in label_midi.instruments[0].notes:\n",
    "    label_array.append([note.start, note.end, note.pitch, note.velocity])\n",
    "label_array = np.array(label_array)\n",
    "label_pr = create_piano_roll(label_array, fs=100)\n",
    "\n",
    "transcribed_array = []\n",
    "for note in transcribed_midi.instruments[0].notes:\n",
    "    transcribed_array.append([note.start, note.end, note.pitch, note.velocity])\n",
    "transcribed_array = np.array(transcribed_array)\n",
    "transcribed_pr = create_piano_roll(transcribed_array, fs=100)\n",
    "\n",
    "metric = note_eval.evaluate(torch.Tensor(label_pr), torch.Tensor(transcribed_pr))\n",
    "print(metric)\n",
    "metrics.append(metric)\n"
   ]
  },
  {
   "cell_type": "code",
   "execution_count": 103,
   "metadata": {},
   "outputs": [
    {
     "ename": "TypeError",
     "evalue": "'numpy.dtype[float64]' object is not callable",
     "output_type": "error",
     "traceback": [
      "\u001b[0;31m---------------------------------------------------------------------------\u001b[0m",
      "\u001b[0;31mTypeError\u001b[0m                                 Traceback (most recent call last)",
      "Cell \u001b[0;32mIn[103], line 1\u001b[0m\n\u001b[0;32m----> 1\u001b[0m \u001b[38;5;28;43mdict\u001b[39;49m\u001b[43m(\u001b[49m\u001b[43mmetrics\u001b[49m\u001b[43m[\u001b[49m\u001b[38;5;241;43m5\u001b[39;49m\u001b[43m]\u001b[49m\u001b[43m)\u001b[49m\u001b[43m[\u001b[49m\u001b[38;5;124;43m\"\u001b[39;49m\u001b[38;5;124;43mmetric/frame/accuracy\u001b[39;49m\u001b[38;5;124;43m\"\u001b[39;49m\u001b[43m]\u001b[49m\u001b[43m[\u001b[49m\u001b[38;5;241;43m0\u001b[39;49m\u001b[43m]\u001b[49m\u001b[38;5;241;43m.\u001b[39;49m\u001b[43mdtype\u001b[49m\u001b[43m(\u001b[49m\u001b[43m)\u001b[49m\n",
      "\u001b[0;31mTypeError\u001b[0m: 'numpy.dtype[float64]' object is not callable"
     ]
    }
   ],
   "source": [
    "dict(metrics[5])[\"metric/frame/accuracy\"][0]"
   ]
  },
  {
   "cell_type": "code",
   "execution_count": null,
   "metadata": {},
   "outputs": [],
   "source": [
    "metrics = []\n",
    "for filename in val_split:\n",
    "    label_path = os.path.join(root, filename)\n",
    "    print(label_path)\n",
    "    label = pretty_midi.PrettyMIDI(label_path)\n",
    "    length_sec = label.instruments[0].notes[-1].end\n",
    "    for i in range(int(length_sec//30)):\n",
    "        label_midi = slice_midi(label, i*30, (i+1)*30)\n",
    "        transcribed_midi = pretty_midi.PrettyMIDI(label_path.replace(\".midi\", \"_bytedance_{}.mid\".format(i*30)))\n",
    "\n",
    "        label_array = []\n",
    "        for note in label_midi.instruments[0].notes:\n",
    "            label_array.append([note.start, note.end, note.pitch, note.velocity])\n",
    "        label_array = np.array(label_array)\n",
    "        label_pr = create_piano_roll(label_array, fs=100)\n",
    "\n",
    "        transcribed_array = []\n",
    "        for note in transcribed_midi.instruments[0].notes:\n",
    "            transcribed_array.append([note.start, note.end, note.pitch, note.velocity])\n",
    "        transcribed_array = np.array(transcribed_array)\n",
    "        transcribed_pr = create_piano_roll(transcribed_array, fs=100)\n",
    "\n",
    "        metric = note_eval.evaluate(torch.Tensor(label_pr), torch.Tensor(transcribed_pr))\n",
    "        metric[\"filename\"] = filename\n",
    "        metric[\"idx\"] = i\n",
    "        print(metric)\n",
    "        metrics.append(metric)\n",
    "    label_midi = slice_midi(label, length_sec-30, length_sec)\n",
    "    transcribed_midi = pretty_midi.PrettyMIDI(label_path.replace(\".midi\", \"_bytedance_{}.mid\".format(-1)))\n",
    "\n",
    "    label_array = []\n",
    "    for note in label_midi.instruments[0].notes:\n",
    "        label_array.append([note.start, note.end, note.pitch, note.velocity])\n",
    "    label_array = np.array(label_array)\n",
    "    label_pr = create_piano_roll(label_array, fs=100)\n",
    "\n",
    "    transcribed_array = []\n",
    "    for note in transcribed_midi.instruments[0].notes:\n",
    "        transcribed_array.append([note.start, note.end, note.pitch, note.velocity])\n",
    "    transcribed_array = np.array(transcribed_array)\n",
    "    transcribed_pr = create_piano_roll(transcribed_array, fs=100)\n",
    "\n",
    "    metric = note_eval.evaluate(torch.Tensor(label_pr), torch.Tensor(transcribed_pr))\n",
    "    metric[\"filename\"] = filename\n",
    "    metric[\"idx\"] = -1\n",
    "    print(metric)\n",
    "    metrics.append(metric)\n"
   ]
  }
 ],
 "metadata": {
  "kernelspec": {
   "display_name": "piano_transcription-tc-tTbTr",
   "language": "python",
   "name": "python3"
  },
  "language_info": {
   "codemirror_mode": {
    "name": "ipython",
    "version": 3
   },
   "file_extension": ".py",
   "mimetype": "text/x-python",
   "name": "python",
   "nbconvert_exporter": "python",
   "pygments_lexer": "ipython3",
   "version": "3.7.17"
  }
 },
 "nbformat": 4,
 "nbformat_minor": 2
}
