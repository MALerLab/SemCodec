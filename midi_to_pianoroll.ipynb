{
 "cells": [
  {
   "cell_type": "code",
   "execution_count": 1,
   "metadata": {},
   "outputs": [],
   "source": [
    "import pretty_midi"
   ]
  },
  {
   "cell_type": "code",
   "execution_count": 2,
   "metadata": {},
   "outputs": [],
   "source": [
    "gt_midi = pretty_midi.PrettyMIDI(\"/home/jongmin/userdata/piano_transcription/2009_MIDI-Unprocessed_02_R1_2009_03-06_ORIG_MID--AUDIO_02_R1_2009_02_R1_2009_05_WAV_sliced_60.mid\")"
   ]
  },
  {
   "cell_type": "code",
   "execution_count": 3,
   "metadata": {},
   "outputs": [],
   "source": [
    "import midi_to_pianoroll"
   ]
  },
  {
   "cell_type": "code",
   "execution_count": 18,
   "metadata": {},
   "outputs": [],
   "source": [
    "gt_parsed = midi_to_pianoroll.parse_midi(\"/home/jongmin/userdata/piano_transcription/2009_MIDI-Unprocessed_02_R1_2009_03-06_ORIG_MID--AUDIO_02_R1_2009_02_R1_2009_05_WAV_decoded_midi_60.mid\")"
   ]
  },
  {
   "cell_type": "code",
   "execution_count": 19,
   "metadata": {},
   "outputs": [],
   "source": [
    "gt_pr = midi_to_pianoroll.create_piano_roll(gt_parsed)"
   ]
  },
  {
   "cell_type": "code",
   "execution_count": 20,
   "metadata": {},
   "outputs": [],
   "source": [
    "import matplotlib.pyplot as plt"
   ]
  },
  {
   "cell_type": "code",
   "execution_count": 21,
   "metadata": {},
   "outputs": [
    {
     "data": {
      "text/plain": [
       "<matplotlib.image.AxesImage at 0x7fa37287e250>"
      ]
     },
     "execution_count": 21,
     "metadata": {},
     "output_type": "execute_result"
    },
    {
     "data": {
      "image/png": "[encoded data removed]",
      "text/plain": [
       "<Figure size 640x480 with 1 Axes>"
      ]
     },
     "metadata": {},
     "output_type": "display_data"
    }
   ],
   "source": [
    "plt.imshow(gt_pr[1], aspect='auto', origin='lower', interpolation='none')"
   ]
  },
  {
   "cell_type": "code",
   "execution_count": 24,
   "metadata": {},
   "outputs": [],
   "source": [
    "import torch\n",
    "import torch.nn as nn"
   ]
  },
  {
   "cell_type": "code",
   "execution_count": 25,
   "metadata": {},
   "outputs": [],
   "source": [
    "class RVQMultiEmbedding(nn.Module):\n",
    "  def __init__(self, vocab_size=[2048, 2048, 2048, 2048], input_keys = 4, dim=256):\n",
    "    super().__init__()\n",
    "    '''\n",
    "    vocab_size: dict of vocab size for each embedding layer\n",
    "    is_attention: bool, whether this embedding is made by attention mechanism or not\n",
    "    input_keys: list of input keys\n",
    "    '''\n",
    "    self.vocab_size = vocab_size\n",
    "    self.d_model = dim\n",
    "    self.input_keys = input_keys\n",
    "    self.layers = []\n",
    "    self._make_emb_layers()\n",
    "\n",
    "  def _make_emb_layers(self):\n",
    "    vocab_sizes = [self.vocab_size[key] for key in range(self.input_keys)]\n",
    "    self.embedding_sizes = [self.d_model for _ in range(self.input_keys)]\n",
    "    for vocab_size, embedding_size in zip(vocab_sizes, self.embedding_sizes):\n",
    "      if embedding_size != 0:\n",
    "        self.layers.append(nn.Embedding(vocab_size, embedding_size))\n",
    "    self.layers = nn.ModuleList(self.layers)\n",
    "\n",
    "  def forward(self, x):\n",
    "    '''\n",
    "    in case when need to apply different embedding for each input, for example, in case of flattened nb\n",
    "    x: B x T\n",
    "    '''\n",
    "    embeddings = torch.zeros(x.shape[0], x.shape[1], self.d_model).to(x.device)\n",
    "    emb_list = [module(x[:, (idx+1)%4::4]) for idx, module in enumerate(self.layers)]\n",
    "    for idx, emb in enumerate(emb_list):\n",
    "      embeddings[:, (idx+1)%4::4] = emb\n",
    "    # emb_list = [module(x[:, idx::4]) for idx, module in enumerate(self.layers)]\n",
    "    # for idx, emb in enumerate(emb_list):\n",
    "    #   embeddings[:, idx::4] = emb\n",
    "    return embeddings\n",
    "  \n",
    "  def get_emb_by_key(self, key:str, token:torch.Tensor):\n",
    "    '''\n",
    "    key: key of musical info\n",
    "    token: B x T (idx of musical info)\n",
    "    '''\n",
    "    layer_idx = self.input_keys.index(key)\n",
    "    return self.layers[layer_idx](token)\n",
    "\n",
    "class SummationEmbedder(RVQMultiEmbedding):\n",
    "  def __init__(self, vocab_size, input_keys, dim):\n",
    "    super().__init__(vocab_size, input_keys, dim)\n",
    "\n",
    "  def forward(self, x):\n",
    "    '''\n",
    "    x: B x T x num_musical_info(4)\n",
    "    '''\n",
    "    if isinstance(x, torch.Tensor): # input embedder\n",
    "      emb_list = [module(x[..., i]) for i, module in enumerate(self.layers)]\n",
    "    elif isinstance(x, list): # double-sequential decoder embedder\n",
    "      emb_list = x\n",
    "    stacked_emb = torch.stack(emb_list, dim=2) # B x T x num_musical_info(7, in case cp) x emb_size\n",
    "    # sum\n",
    "    output = torch.sum(stacked_emb, dim=2) # B x T x emb_size\n",
    "    return output"
   ]
  },
  {
   "cell_type": "code",
   "execution_count": 70,
   "metadata": {},
   "outputs": [],
   "source": [
    "class SemCodecMidiDecoder(nn.Module):\n",
    "  def __init__(self, in_channels=256, out_channels=88, kernel_size=3, stride=1, padding=1):\n",
    "      super().__init__()\n",
    "      self.out_channels = out_channels\n",
    "      self.emb = SummationEmbedder(vocab_size=[2048, 2048, 2048, 2048], input_keys = 4, dim=in_channels)\n",
    "      self.layers = nn.Sequential(\n",
    "            nn.Conv1d(in_channels=in_channels, out_channels=256, kernel_size=kernel_size, stride=1, padding=1),\n",
    "            nn.BatchNorm1d(256),\n",
    "            nn.ELU(),\n",
    "            nn.Dropout(0.5),\n",
    "            nn.Conv1d(in_channels=256, out_channels=512, kernel_size=kernel_size, stride=1, padding=1),\n",
    "            nn.BatchNorm1d(512),\n",
    "            nn.ELU(),\n",
    "            nn.Dropout(0.5),\n",
    "            nn.Conv1d(in_channels=512, out_channels=out_channels*2, kernel_size=kernel_size, stride=1, padding=1),\n",
    "        )\n",
    "      self.rnn = nn.GRU(input_size=out_channels*2, hidden_size=128, num_layers=2, batch_first=True, bidirectional=True)\n",
    "      self.proj = nn.Linear(128*2, out_channels*2)\n",
    "      self.act = nn.Sigmoid()\n",
    "  \n",
    "  def forward(self, x):\n",
    "      x = self.emb(x.permute(0,2,1))\n",
    "      x = self.layers(x.permute(0,2,1))\n",
    "      x = self.rnn(x.permute(0,2,1))[0]\n",
    "      x = self.proj(x)\n",
    "      x = self.act(x.permute(0,2,1))\n",
    "      x = torch.stack([x[:,:88,:],x[:,88:,:]], dim=1)\n",
    "      return x"
   ]
  },
  {
   "cell_type": "code",
   "execution_count": 71,
   "metadata": {},
   "outputs": [],
   "source": [
    "model = SemCodecMidiDecoder()"
   ]
  },
  {
   "cell_type": "code",
   "execution_count": 32,
   "metadata": {},
   "outputs": [],
   "source": [
    "tokens = torch.load(\"/home/jongmin/userdata/MAESTRO/maestro-v3.0.0/2004/MIDI-Unprocessed_SMF_02_R1_2004_01-05_ORIG_MID--AUDIO_02_R1_2004_05_Track05_wav_encodec.pt\")"
   ]
  },
  {
   "cell_type": "code",
   "execution_count": 72,
   "metadata": {},
   "outputs": [
    {
     "data": {
      "text/plain": [
       "torch.Size([1, 2, 88, 1500])"
      ]
     },
     "execution_count": 72,
     "metadata": {},
     "output_type": "execute_result"
    }
   ],
   "source": [
    "out = model(tokens[30])\n",
    "out.shape"
   ]
  },
  {
   "cell_type": "code",
   "execution_count": 35,
   "metadata": {},
   "outputs": [],
   "source": [
    "def get_n_params(model):\n",
    "    pp=0\n",
    "    for p in list(model.parameters()):\n",
    "        nn=1\n",
    "        for s in list(p.size()):\n",
    "            nn = nn*s\n",
    "        pp += nn\n",
    "    return pp"
   ]
  },
  {
   "cell_type": "code",
   "execution_count": 36,
   "metadata": {},
   "outputs": [
    {
     "data": {
      "text/plain": [
       "2958384"
      ]
     },
     "execution_count": 36,
     "metadata": {},
     "output_type": "execute_result"
    }
   ],
   "source": [
    "get_n_params(model)"
   ]
  },
  {
   "cell_type": "code",
   "execution_count": 39,
   "metadata": {},
   "outputs": [
    {
     "name": "stdout",
     "output_type": "stream",
     "text": [
      "('emb.layers.0.weight', Parameter containing:\n",
      "tensor([[ 0.5261,  0.5373, -0.5717,  ...,  1.9620,  1.2971, -0.2561],\n",
      "        [ 0.7505, -0.6816, -1.1045,  ...,  1.5092, -1.0601,  1.2384],\n",
      "        [-0.9731,  0.0161, -0.1394,  ...,  1.4815, -1.8172,  0.7377],\n",
      "        ...,\n",
      "        [ 0.0419, -0.7705,  1.0540,  ..., -0.0973,  0.9532,  0.2626],\n",
      "        [ 0.9399, -0.0770, -0.0849,  ..., -0.0166, -0.1611, -0.2939],\n",
      "        [-1.0190, -0.4221,  0.3608,  ..., -0.8843, -2.0362,  0.3779]],\n",
      "       requires_grad=True))\n",
      "('emb.layers.1.weight', Parameter containing:\n",
      "tensor([[ 0.0485,  1.3202,  0.8648,  ..., -0.2931, -0.1628,  1.5716],\n",
      "        [-1.3444, -1.1491, -0.2691,  ...,  0.9304, -1.2728, -0.9987],\n",
      "        [ 2.4219,  1.4501,  0.8980,  ...,  0.5627,  0.5381, -0.1427],\n",
      "        ...,\n",
      "        [-0.8296, -0.9093, -0.1558,  ..., -1.3273,  0.1121,  0.7805],\n",
      "        [-0.7876,  0.4470, -0.1390,  ..., -0.5355, -1.2454, -0.5735],\n",
      "        [ 0.0974, -1.0129,  0.2260,  ..., -0.3811, -0.8954,  0.1589]],\n",
      "       requires_grad=True))\n",
      "('emb.layers.2.weight', Parameter containing:\n",
      "tensor([[-0.3336, -0.7611,  0.9905,  ..., -0.9444,  1.4838, -0.5097],\n",
      "        [ 1.9715,  1.2284, -0.7625,  ...,  1.2756, -1.6670,  0.3965],\n",
      "        [-1.6339,  1.4091, -1.4277,  ...,  0.6800,  0.1136, -0.2189],\n",
      "        ...,\n",
      "        [-0.4993, -0.1200, -1.1440,  ...,  0.3132,  1.7572,  0.4625],\n",
      "        [ 0.8683,  0.3828,  0.0532,  ...,  0.6544, -0.4800,  0.4531],\n",
      "        [ 1.3717, -1.6806, -0.4277,  ...,  0.6439,  0.1415,  0.9734]],\n",
      "       requires_grad=True))\n",
      "('emb.layers.3.weight', Parameter containing:\n",
      "tensor([[ 0.5506,  2.1393,  0.8104,  ...,  1.3717, -0.1478,  1.2511],\n",
      "        [-0.4778, -0.0369,  0.7632,  ...,  0.3354, -1.5619, -0.5907],\n",
      "        [-0.8444, -1.2121,  0.5300,  ..., -0.5114,  0.8545, -1.4725],\n",
      "        ...,\n",
      "        [-1.1206,  0.7764, -0.9634,  ..., -1.0106,  0.6710, -0.9611],\n",
      "        [ 2.0735,  0.6225, -0.3306,  ...,  1.0600, -0.1190,  1.0331],\n",
      "        [ 0.0825,  2.0974, -0.5023,  ...,  0.1489,  0.1172, -0.7900]],\n",
      "       requires_grad=True))\n",
      "('layers.0.weight', Parameter containing:\n",
      "tensor([[[ 0.0064, -0.0347, -0.0035],\n",
      "         [-0.0272, -0.0125, -0.0167],\n",
      "         [-0.0205,  0.0300, -0.0031],\n",
      "         ...,\n",
      "         [-0.0115, -0.0196,  0.0080],\n",
      "         [ 0.0060,  0.0096,  0.0046],\n",
      "         [ 0.0012,  0.0051,  0.0336]],\n",
      "\n",
      "        [[-0.0079,  0.0062,  0.0323],\n",
      "         [-0.0049, -0.0123,  0.0061],\n",
      "         [ 0.0355,  0.0173, -0.0098],\n",
      "         ...,\n",
      "         [-0.0248,  0.0347,  0.0017],\n",
      "         [ 0.0060, -0.0111,  0.0324],\n",
      "         [ 0.0010,  0.0090,  0.0309]],\n",
      "\n",
      "        [[-0.0019,  0.0228,  0.0235],\n",
      "         [ 0.0281,  0.0005,  0.0105],\n",
      "         [-0.0092,  0.0122,  0.0162],\n",
      "         ...,\n",
      "         [-0.0306,  0.0275,  0.0106],\n",
      "         [ 0.0198, -0.0337,  0.0129],\n",
      "         [-0.0110, -0.0220, -0.0064]],\n",
      "\n",
      "        ...,\n",
      "\n",
      "        [[ 0.0081, -0.0323,  0.0338],\n",
      "         [-0.0033, -0.0353,  0.0057],\n",
      "         [-0.0261,  0.0143, -0.0260],\n",
      "         ...,\n",
      "         [ 0.0257,  0.0125,  0.0299],\n",
      "         [ 0.0140, -0.0349, -0.0149],\n",
      "         [ 0.0104,  0.0095,  0.0021]],\n",
      "\n",
      "        [[-0.0152,  0.0330,  0.0287],\n",
      "         [ 0.0126,  0.0330,  0.0066],\n",
      "         [ 0.0331, -0.0299,  0.0158],\n",
      "         ...,\n",
      "         [ 0.0167,  0.0265,  0.0231],\n",
      "         [-0.0267,  0.0345,  0.0347],\n",
      "         [-0.0294,  0.0264,  0.0084]],\n",
      "\n",
      "        [[ 0.0247, -0.0093, -0.0218],\n",
      "         [ 0.0326,  0.0217,  0.0225],\n",
      "         [-0.0287,  0.0197, -0.0119],\n",
      "         ...,\n",
      "         [ 0.0116, -0.0264, -0.0163],\n",
      "         [-0.0355, -0.0197, -0.0129],\n",
      "         [-0.0059,  0.0161, -0.0155]]], requires_grad=True))\n",
      "('layers.0.bias', Parameter containing:\n",
      "tensor([-3.2102e-02, -8.1808e-03,  3.4862e-02,  1.7884e-02,  3.5204e-02,\n",
      "        -2.6639e-02,  2.9655e-02,  2.7030e-02,  3.3339e-02, -2.8088e-02,\n",
      "         1.9438e-02, -4.5266e-03,  9.1627e-03,  3.2939e-02,  2.6392e-02,\n",
      "        -2.0603e-02, -2.2243e-02, -1.2042e-02,  1.2322e-02, -1.4683e-02,\n",
      "         1.4744e-02, -4.3338e-03, -3.1226e-02,  2.7286e-02, -1.6114e-02,\n",
      "         3.5548e-02, -1.9798e-02,  2.9463e-02,  2.8197e-02, -1.6506e-02,\n",
      "         2.8490e-02, -2.5300e-02, -2.1833e-02, -1.6920e-02,  2.8772e-02,\n",
      "        -2.3474e-02, -2.8731e-02,  2.4156e-02,  3.4352e-02,  1.4527e-02,\n",
      "         1.3770e-02,  3.4045e-02, -9.0987e-03, -1.8623e-02, -2.5732e-02,\n",
      "        -1.1719e-02, -2.5141e-02,  1.9782e-03, -2.7240e-03,  3.5270e-02,\n",
      "         3.4708e-02,  9.7044e-03,  4.4238e-04,  3.1549e-02,  1.6123e-02,\n",
      "         2.4226e-02,  2.6523e-02, -2.6073e-02,  4.4437e-03,  3.2424e-02,\n",
      "        -7.4267e-04, -2.5578e-02,  2.5682e-02, -4.7262e-03,  9.0161e-05,\n",
      "         1.7863e-02,  2.1882e-02,  9.9178e-03,  4.4069e-03, -1.8969e-02,\n",
      "         9.1355e-03,  1.0087e-02, -2.3189e-02,  3.2190e-02,  2.7385e-02,\n",
      "        -1.8387e-02, -3.4284e-02,  1.5211e-03,  2.9236e-02,  1.6352e-03,\n",
      "         1.7738e-02, -4.7048e-03,  1.1005e-03,  2.5577e-02, -3.1696e-02,\n",
      "         3.4718e-02,  2.7900e-02,  1.5001e-02,  5.8445e-03, -7.0201e-03,\n",
      "        -2.8383e-02, -5.7614e-04, -1.1926e-02, -1.2844e-02,  3.1376e-02,\n",
      "        -6.7820e-03, -1.0192e-02, -3.3005e-03, -1.9495e-02, -2.4000e-02,\n",
      "        -1.2558e-03, -5.2379e-03, -1.1754e-02, -6.6099e-04, -2.7326e-02,\n",
      "        -1.0336e-02,  2.7702e-02,  1.3046e-02,  1.4548e-03,  1.2474e-02,\n",
      "        -2.4066e-02,  2.1577e-02, -1.0155e-02, -1.2378e-02,  1.5064e-02,\n",
      "        -3.2783e-02,  4.7035e-04, -5.9427e-03,  1.7015e-03,  2.0260e-02,\n",
      "         3.0547e-02, -3.1921e-04,  4.3653e-03,  3.0476e-02,  2.9411e-02,\n",
      "         3.5896e-02,  1.8818e-02,  2.2741e-02], requires_grad=True))\n",
      "('layers.2.weight', Parameter containing:\n",
      "tensor([[[-0.0002,  0.0378, -0.0330],\n",
      "         [-0.0243, -0.0273, -0.0402],\n",
      "         [ 0.0183, -0.0244, -0.0089],\n",
      "         ...,\n",
      "         [ 0.0073, -0.0415,  0.0172],\n",
      "         [ 0.0307,  0.0018,  0.0120],\n",
      "         [ 0.0435,  0.0501,  0.0442]],\n",
      "\n",
      "        [[-0.0453, -0.0213,  0.0339],\n",
      "         [-0.0445, -0.0331,  0.0184],\n",
      "         [-0.0428,  0.0498, -0.0399],\n",
      "         ...,\n",
      "         [ 0.0507,  0.0306, -0.0484],\n",
      "         [ 0.0487,  0.0079,  0.0508],\n",
      "         [ 0.0427, -0.0078,  0.0478]],\n",
      "\n",
      "        [[-0.0226,  0.0225,  0.0061],\n",
      "         [-0.0208,  0.0145,  0.0354],\n",
      "         [ 0.0405,  0.0036, -0.0172],\n",
      "         ...,\n",
      "         [ 0.0434, -0.0252, -0.0352],\n",
      "         [ 0.0215,  0.0476,  0.0497],\n",
      "         [-0.0374,  0.0316, -0.0225]],\n",
      "\n",
      "        ...,\n",
      "\n",
      "        [[ 0.0314,  0.0036,  0.0481],\n",
      "         [ 0.0389, -0.0247,  0.0277],\n",
      "         [-0.0414,  0.0235,  0.0327],\n",
      "         ...,\n",
      "         [ 0.0409,  0.0268, -0.0044],\n",
      "         [-0.0339,  0.0314, -0.0173],\n",
      "         [ 0.0020, -0.0125, -0.0172]],\n",
      "\n",
      "        [[-0.0289,  0.0330,  0.0428],\n",
      "         [-0.0104, -0.0121, -0.0289],\n",
      "         [-0.0373,  0.0090, -0.0349],\n",
      "         ...,\n",
      "         [-0.0091, -0.0164, -0.0173],\n",
      "         [-0.0137, -0.0506,  0.0025],\n",
      "         [-0.0070,  0.0359, -0.0386]],\n",
      "\n",
      "        [[ 0.0317, -0.0076, -0.0180],\n",
      "         [ 0.0361,  0.0249, -0.0031],\n",
      "         [-0.0071,  0.0453,  0.0336],\n",
      "         ...,\n",
      "         [-0.0210, -0.0283,  0.0110],\n",
      "         [-0.0407, -0.0236, -0.0246],\n",
      "         [ 0.0077,  0.0451, -0.0208]]], requires_grad=True))\n",
      "('layers.2.bias', Parameter containing:\n",
      "tensor([ 2.3741e-02, -3.5837e-02, -4.8001e-02, -3.0002e-02,  4.1940e-03,\n",
      "        -2.9853e-02, -1.4344e-02,  2.9377e-02,  8.2826e-03,  2.2312e-03,\n",
      "        -3.7508e-02,  3.4497e-02,  3.1707e-02,  5.2776e-03, -4.6316e-02,\n",
      "         4.1865e-02,  2.2199e-02,  6.7048e-04,  3.7081e-02,  2.2204e-02,\n",
      "        -3.4884e-02, -5.0923e-02,  3.7123e-02, -3.9617e-02, -1.7277e-02,\n",
      "        -2.2042e-02,  2.9575e-02, -2.4300e-02, -4.1909e-02, -1.9351e-02,\n",
      "         3.9106e-03,  1.3154e-02,  4.8077e-02, -4.1775e-04, -4.3049e-02,\n",
      "        -4.0747e-02, -4.5145e-02,  1.8395e-02, -4.6201e-02, -1.3734e-02,\n",
      "         2.1419e-02, -2.9192e-02,  1.3857e-02, -5.6239e-03, -4.2200e-02,\n",
      "        -4.5447e-02,  4.9496e-02, -2.7212e-02, -4.8953e-02,  4.9066e-02,\n",
      "         9.5418e-03, -7.5198e-03,  1.2388e-02,  1.6655e-02,  2.8619e-02,\n",
      "         3.5844e-02, -9.6516e-03, -3.8533e-02, -2.6787e-02,  2.9983e-03,\n",
      "        -3.1116e-02,  2.1677e-02,  1.3740e-02, -2.0034e-02,  4.7217e-02,\n",
      "         6.9762e-03, -4.3840e-02, -2.1875e-02, -2.5747e-02, -2.2103e-02,\n",
      "        -2.6233e-02,  3.2806e-02, -4.4658e-02,  2.5940e-02,  4.4177e-02,\n",
      "         1.1453e-02, -4.2651e-02, -1.3424e-02,  1.5362e-02, -4.3662e-02,\n",
      "        -7.2899e-03, -4.7421e-02, -2.5249e-02, -4.0689e-02,  4.9700e-02,\n",
      "        -1.4438e-02, -7.7297e-03, -3.2442e-02,  3.7558e-02,  3.9472e-02,\n",
      "         2.8476e-02,  9.0482e-04, -2.0188e-02, -1.6563e-02, -1.4501e-02,\n",
      "         4.5673e-02, -1.9987e-02,  3.0725e-02,  1.6018e-02, -4.9097e-02,\n",
      "        -7.9826e-05, -3.2498e-02,  1.9211e-02, -1.4744e-02, -4.9844e-02,\n",
      "        -3.4190e-02, -2.0977e-03,  3.5410e-02, -1.2180e-02,  1.5385e-02,\n",
      "        -3.9773e-02, -2.6836e-02,  1.1645e-02,  2.3633e-02, -9.0438e-03,\n",
      "         2.5235e-02,  3.5741e-03, -3.0635e-02,  1.9434e-02,  1.7240e-02,\n",
      "        -1.2792e-02, -2.3109e-02, -2.7064e-03,  8.4628e-03,  4.2726e-02,\n",
      "         3.5563e-02, -3.1010e-02, -2.3497e-02,  1.2965e-02,  2.5117e-02,\n",
      "         1.3511e-02, -4.0618e-02, -2.4984e-02, -4.7951e-02, -2.2343e-02,\n",
      "         4.3782e-02, -3.1013e-02, -1.3251e-03,  3.1060e-02, -8.0734e-03,\n",
      "         4.1660e-02, -1.9730e-02,  1.3913e-02, -1.7841e-02, -4.2830e-02,\n",
      "        -6.0411e-03, -1.6486e-02, -2.4230e-02, -9.8449e-03,  8.2501e-03,\n",
      "         3.7991e-02,  3.3375e-02,  1.3865e-02, -5.5198e-03,  2.5318e-02,\n",
      "        -1.7063e-02,  4.8714e-02,  4.7728e-02,  1.6229e-02,  3.0021e-03,\n",
      "        -4.5373e-02,  4.7541e-02, -2.8822e-02,  3.2907e-04, -7.1030e-03,\n",
      "         2.4919e-02, -1.7205e-02, -1.7374e-02, -4.2929e-02, -4.4137e-02,\n",
      "        -2.7811e-02, -3.7559e-02,  3.8556e-02, -2.9552e-03,  2.8540e-02,\n",
      "         2.7113e-02, -3.3818e-02,  2.2307e-02, -4.8343e-02,  4.4129e-02,\n",
      "        -2.9230e-02, -2.5628e-02,  3.8160e-02,  4.9074e-02,  1.4933e-02,\n",
      "        -3.8426e-02, -1.6413e-02,  3.1550e-02, -5.8781e-03, -3.6819e-02,\n",
      "        -1.1069e-02,  2.8239e-02,  8.9352e-03, -2.8154e-03,  2.4360e-02,\n",
      "         2.4529e-02,  3.6647e-02, -2.8234e-02,  4.6130e-02,  1.7613e-02,\n",
      "        -2.8357e-02,  3.2569e-02, -2.8510e-02,  3.4526e-02, -6.1664e-03,\n",
      "         2.0345e-02, -3.4519e-03,  1.9598e-02,  4.0786e-02, -2.7968e-02,\n",
      "        -2.9236e-02,  3.4050e-02,  7.2982e-03,  3.3403e-02,  1.3146e-02,\n",
      "         1.9626e-02, -2.9508e-02,  4.2997e-02, -2.4563e-02, -3.4502e-03,\n",
      "         4.6497e-03,  1.8741e-02, -1.8159e-02, -4.8697e-02, -4.7444e-02,\n",
      "        -3.9517e-02,  4.2788e-02, -3.6125e-02, -1.4984e-02, -1.0361e-02,\n",
      "         2.9030e-02, -1.4485e-02,  4.9274e-02,  4.0439e-02,  1.5790e-02,\n",
      "         1.3921e-02,  3.3628e-02,  1.9971e-02,  3.8525e-02,  3.4886e-02,\n",
      "        -4.5752e-02,  1.5906e-03, -9.2064e-03, -4.1914e-02, -4.1112e-02,\n",
      "         2.5503e-02,  2.1082e-02, -3.8184e-02,  1.6049e-03,  2.8447e-02,\n",
      "        -1.0770e-02, -4.4163e-02, -1.8528e-02, -3.6940e-02,  2.7499e-02,\n",
      "         4.2381e-02], requires_grad=True))\n",
      "('layers.4.weight', Parameter containing:\n",
      "tensor([[[ 0.0036, -0.0084,  0.0087],\n",
      "         [ 0.0344,  0.0036,  0.0343],\n",
      "         [-0.0124,  0.0255, -0.0213],\n",
      "         ...,\n",
      "         [-0.0058,  0.0160, -0.0116],\n",
      "         [-0.0339, -0.0200,  0.0049],\n",
      "         [ 0.0190,  0.0206,  0.0075]],\n",
      "\n",
      "        [[ 0.0312,  0.0016,  0.0029],\n",
      "         [ 0.0020,  0.0360, -0.0086],\n",
      "         [-0.0131, -0.0264, -0.0021],\n",
      "         ...,\n",
      "         [-0.0137, -0.0045, -0.0181],\n",
      "         [ 0.0078,  0.0092, -0.0200],\n",
      "         [ 0.0123,  0.0124, -0.0188]],\n",
      "\n",
      "        [[-0.0247, -0.0052,  0.0252],\n",
      "         [-0.0224, -0.0062, -0.0037],\n",
      "         [-0.0279,  0.0076, -0.0243],\n",
      "         ...,\n",
      "         [-0.0250,  0.0346,  0.0190],\n",
      "         [-0.0052, -0.0016, -0.0024],\n",
      "         [-0.0088,  0.0133,  0.0148]],\n",
      "\n",
      "        ...,\n",
      "\n",
      "        [[-0.0115, -0.0172, -0.0188],\n",
      "         [ 0.0066,  0.0224, -0.0281],\n",
      "         [-0.0068,  0.0349,  0.0264],\n",
      "         ...,\n",
      "         [-0.0027, -0.0257, -0.0118],\n",
      "         [-0.0008, -0.0111,  0.0206],\n",
      "         [-0.0326,  0.0270,  0.0333]],\n",
      "\n",
      "        [[-0.0143,  0.0238,  0.0279],\n",
      "         [ 0.0012, -0.0184, -0.0208],\n",
      "         [ 0.0328, -0.0269,  0.0059],\n",
      "         ...,\n",
      "         [ 0.0068,  0.0062,  0.0341],\n",
      "         [-0.0280,  0.0169, -0.0044],\n",
      "         [ 0.0256,  0.0070,  0.0099]],\n",
      "\n",
      "        [[-0.0309,  0.0008,  0.0129],\n",
      "         [-0.0052, -0.0242,  0.0269],\n",
      "         [ 0.0201, -0.0197, -0.0038],\n",
      "         ...,\n",
      "         [-0.0070, -0.0343,  0.0017],\n",
      "         [-0.0066, -0.0127,  0.0263],\n",
      "         [-0.0123, -0.0103, -0.0014]]], requires_grad=True))\n",
      "('layers.4.bias', Parameter containing:\n",
      "tensor([ 3.4962e-02,  1.7317e-02,  2.4370e-02,  2.3441e-02, -2.1430e-02,\n",
      "        -3.1495e-02,  2.1548e-02, -2.6823e-03, -9.2200e-03, -2.1110e-02,\n",
      "        -1.4616e-02,  2.8478e-02,  2.7463e-02,  1.9085e-02,  2.9334e-02,\n",
      "         7.2390e-04, -1.8337e-02, -2.0226e-02, -3.4049e-03, -9.2343e-03,\n",
      "         2.4656e-02, -1.9483e-02,  2.7386e-02,  8.2687e-03, -2.4576e-02,\n",
      "         9.7697e-03,  1.4960e-02, -1.4153e-02,  2.6742e-02, -1.1170e-02,\n",
      "         1.4788e-02,  1.3503e-02,  3.2912e-02, -3.5035e-02,  2.9514e-02,\n",
      "        -8.8077e-03, -3.4896e-02, -2.1798e-02, -3.1733e-02, -2.4803e-02,\n",
      "        -1.0587e-02, -8.9683e-03,  4.7123e-03, -2.1738e-03, -3.2550e-02,\n",
      "        -2.2312e-03,  2.8429e-02,  5.6972e-03,  3.4682e-02,  2.8440e-02,\n",
      "        -3.2754e-02, -1.5541e-02,  3.4462e-02,  1.9004e-02, -4.6774e-03,\n",
      "         2.5692e-02, -6.1099e-03,  6.2371e-03,  4.8474e-03,  1.3458e-02,\n",
      "        -2.7536e-02,  2.6044e-02,  1.8439e-02, -3.3062e-02, -6.4520e-03,\n",
      "        -2.7600e-03,  2.7259e-02, -5.0749e-03,  8.8679e-03, -1.8457e-02,\n",
      "        -2.0017e-02, -2.3524e-02,  2.4194e-03, -3.1006e-02, -1.7788e-02,\n",
      "        -3.1380e-02,  2.5549e-02,  2.2814e-02, -1.8633e-02,  2.5407e-02,\n",
      "         2.7269e-02,  3.0056e-02, -1.5942e-02,  1.1172e-02, -2.8559e-02,\n",
      "         6.7277e-03, -1.8486e-02, -1.2845e-02,  2.6048e-02,  2.8322e-02,\n",
      "         6.4937e-03,  8.4599e-03, -2.3491e-02, -1.1419e-02,  2.5323e-02,\n",
      "        -7.5947e-03, -1.5939e-02, -9.6322e-03, -2.0133e-03,  1.1699e-02,\n",
      "         3.3751e-03,  4.5219e-03, -7.8866e-03,  7.9307e-03,  2.1843e-02,\n",
      "         1.1047e-02, -2.1474e-03,  2.9068e-02,  2.3750e-02, -4.6349e-03,\n",
      "         2.9664e-02,  1.2937e-02, -2.9048e-02,  3.2161e-02, -1.5535e-02,\n",
      "        -1.5514e-02, -2.8633e-02, -2.5568e-02, -2.8462e-02, -1.3462e-02,\n",
      "        -3.4621e-02,  2.4402e-02, -3.4857e-02,  3.6064e-02,  1.9811e-02,\n",
      "         2.7522e-04,  2.6844e-02, -4.0238e-03, -1.3698e-02,  2.0091e-02,\n",
      "        -1.1983e-02, -1.2639e-02, -3.0805e-02, -1.4718e-02,  2.8896e-02,\n",
      "         3.1187e-02,  3.2826e-02, -2.6662e-02,  2.6695e-02, -3.6533e-03,\n",
      "         1.2373e-02,  2.3939e-03,  1.0532e-03, -2.4771e-04,  3.5619e-03,\n",
      "        -3.3430e-02, -2.9509e-02, -3.4116e-02,  1.1295e-02,  3.4988e-02,\n",
      "         1.7569e-02,  7.9271e-03, -1.3627e-02, -1.4198e-02, -8.6108e-03,\n",
      "         1.4575e-02,  2.9994e-02, -2.7953e-02,  1.8572e-02,  3.1291e-02,\n",
      "         4.5625e-03,  2.4222e-02,  3.2466e-02, -2.1683e-02, -2.5285e-02,\n",
      "        -2.1170e-02,  2.7335e-02,  1.9192e-02,  1.0146e-02,  1.5072e-03,\n",
      "         3.0698e-02,  3.4527e-02,  2.5292e-02,  1.3191e-02, -6.1617e-03,\n",
      "         5.5009e-03,  2.5041e-02,  8.8980e-03,  2.0570e-02, -1.9251e-02,\n",
      "         2.0046e-02,  2.2974e-02, -2.5368e-02, -9.3481e-03, -2.2588e-02,\n",
      "         3.0376e-02, -9.8172e-03, -1.7757e-02,  1.6817e-02,  3.5640e-02,\n",
      "         2.3808e-02, -1.9334e-02, -3.1172e-02,  7.9281e-04,  2.1238e-02,\n",
      "         2.1883e-02,  2.2766e-02,  2.9889e-02,  2.7614e-02, -8.9625e-03,\n",
      "         2.8681e-02,  1.2310e-02,  2.3301e-02,  2.2371e-02,  1.2694e-02,\n",
      "         8.9126e-03, -9.6183e-03,  7.7572e-03,  3.0848e-02,  3.5145e-02,\n",
      "         1.4539e-02, -5.5746e-03, -3.4171e-02,  6.3911e-04, -3.0914e-02,\n",
      "         9.6656e-03, -3.2848e-02, -1.4498e-02, -2.4040e-02,  1.7294e-02,\n",
      "         1.8086e-02, -7.3593e-03, -2.7643e-02, -1.2105e-02, -3.5584e-02,\n",
      "         1.3855e-02,  9.6231e-03, -1.7149e-02, -1.9857e-02, -2.0771e-02,\n",
      "        -1.2670e-02, -2.3285e-02,  1.2141e-02,  2.1903e-03,  3.5387e-02,\n",
      "         1.4620e-02, -2.3351e-03, -2.2650e-02, -5.6245e-03,  1.0567e-02,\n",
      "        -1.5625e-02, -1.1968e-02, -3.4674e-02,  3.3673e-02, -7.2501e-04,\n",
      "        -2.1055e-02,  3.4462e-02, -1.1945e-02, -2.9059e-02, -2.5963e-02,\n",
      "        -2.8726e-02, -2.0740e-02,  1.3797e-02, -2.8234e-02,  1.4232e-02,\n",
      "         3.3260e-02, -5.7723e-03, -1.7822e-02,  3.0718e-04,  2.6508e-02,\n",
      "         1.5463e-02, -6.2155e-04, -2.5655e-02, -1.4536e-02,  1.0494e-02,\n",
      "         3.1987e-02,  1.4730e-03,  2.0206e-03, -6.2843e-03, -2.7067e-02,\n",
      "         3.4923e-02,  3.0956e-02, -3.4849e-02,  1.2434e-02,  1.9743e-02,\n",
      "        -7.6578e-03,  1.3991e-02, -9.1487e-03,  5.7698e-03, -5.7626e-03,\n",
      "         3.8639e-03,  1.9276e-02,  2.1542e-03, -2.7993e-02,  1.6554e-04,\n",
      "         3.2730e-02,  2.8221e-02, -2.2243e-02, -2.5396e-02, -2.7378e-02,\n",
      "         3.3806e-03,  3.2142e-02,  2.7597e-02,  2.8850e-02,  1.8954e-02,\n",
      "        -2.0429e-02,  3.3666e-02,  2.7256e-02, -3.1840e-02,  7.5217e-03,\n",
      "        -2.5049e-02,  1.9021e-02, -4.3992e-03,  3.1042e-02,  3.1249e-02,\n",
      "        -2.9132e-02,  3.6183e-03, -2.1624e-02,  1.8926e-02,  1.2474e-02,\n",
      "         2.3946e-02,  1.4866e-02, -1.2232e-02,  3.2528e-02, -1.2303e-02,\n",
      "         1.0180e-03,  2.0344e-03,  3.4250e-02, -2.6120e-02,  3.1162e-02,\n",
      "        -7.9680e-04,  1.1592e-04, -5.9941e-03, -1.6595e-03,  1.1048e-02,\n",
      "         2.6773e-02, -7.0051e-03,  2.7804e-02,  6.5660e-03,  3.2185e-02,\n",
      "         1.4289e-02, -1.0637e-02, -1.0877e-02, -1.7363e-02, -1.1162e-02,\n",
      "        -7.3319e-03, -8.2047e-04, -2.7678e-02,  2.7879e-02,  2.7510e-02,\n",
      "        -2.0028e-02,  2.2323e-02,  1.3088e-03,  1.3131e-02, -1.8579e-02,\n",
      "        -1.7732e-03,  1.2016e-02, -2.8822e-02,  1.2776e-03, -1.8856e-02,\n",
      "         5.2455e-03,  8.4187e-05, -2.8891e-04,  3.1952e-02,  1.0612e-02,\n",
      "         1.1484e-02, -2.1017e-02,  6.0208e-03, -2.5815e-03,  3.1746e-02,\n",
      "         6.3519e-03,  1.6919e-02,  2.0013e-02,  2.7043e-03, -3.0321e-02,\n",
      "         3.6873e-03,  7.9270e-03, -2.6564e-02,  1.0708e-02,  3.4000e-02,\n",
      "        -3.2577e-02, -1.0044e-02,  2.1182e-02, -1.7581e-02,  1.0664e-03,\n",
      "         3.1756e-02,  5.3773e-03, -8.9884e-03,  3.2196e-02,  2.2251e-04,\n",
      "         1.7758e-02,  2.5798e-02,  5.7440e-03,  9.4628e-03, -1.0466e-02,\n",
      "         3.2352e-02,  2.7462e-02, -2.6893e-02, -2.2693e-02,  2.9592e-03,\n",
      "         2.2708e-02,  3.5347e-02,  2.9286e-02, -7.1620e-03, -7.7918e-03,\n",
      "         3.0259e-02, -2.5427e-02,  4.1293e-03,  6.5269e-03, -1.9243e-02,\n",
      "        -2.2801e-02,  1.4794e-02,  3.5209e-03,  2.2583e-02, -2.4791e-02,\n",
      "         3.2864e-02,  1.3329e-03,  2.1724e-02, -2.0791e-02, -1.0656e-02,\n",
      "        -1.2209e-02,  1.5644e-02, -3.2062e-02,  1.8586e-02,  9.8422e-04,\n",
      "        -1.3383e-02,  1.3506e-02, -8.7136e-03,  1.0789e-02, -3.8452e-03,\n",
      "        -2.4939e-02,  1.9136e-02, -1.4830e-02,  4.1839e-03, -2.7606e-02,\n",
      "        -2.6365e-02, -6.0250e-03,  2.6648e-02, -1.8469e-02, -1.3468e-02,\n",
      "         2.8582e-02,  3.2005e-03,  1.2135e-03, -1.8270e-02,  2.5018e-02,\n",
      "         1.9022e-02, -1.8959e-02,  2.0831e-02, -1.0664e-02, -1.2743e-03,\n",
      "        -1.5031e-02,  8.9917e-03, -6.6932e-03,  2.9664e-03,  1.8133e-03,\n",
      "        -2.3914e-02, -1.7009e-02,  8.9760e-03,  5.3101e-03,  2.5644e-02,\n",
      "        -1.9107e-02, -1.6531e-02, -1.6866e-02, -2.2584e-02, -1.6282e-02,\n",
      "        -7.7558e-03, -2.8570e-02,  2.9574e-02,  2.5450e-02,  3.0686e-02,\n",
      "         2.1243e-02, -8.6795e-03, -8.0939e-05,  9.2594e-03,  1.1252e-02,\n",
      "        -2.6004e-02, -3.2409e-03,  6.8682e-04,  1.2175e-02,  9.1442e-03,\n",
      "        -3.1037e-02, -3.4713e-02, -2.3253e-02,  8.0884e-03, -2.2129e-02,\n",
      "         2.3272e-02,  3.1740e-03, -1.8609e-02,  1.7258e-02, -3.1556e-02,\n",
      "        -1.4049e-02,  1.2509e-03,  2.3016e-02, -1.6613e-02,  1.7205e-02,\n",
      "        -1.3009e-02,  9.4796e-03, -3.5715e-02,  1.2767e-04,  3.2599e-03,\n",
      "        -2.1520e-03, -3.2711e-02, -2.4658e-02,  6.2841e-03,  9.6960e-03,\n",
      "        -2.3885e-02,  1.7488e-02,  2.7157e-02,  2.0563e-02, -1.4714e-02,\n",
      "        -2.5847e-02, -2.3482e-02,  2.7263e-04, -3.0785e-02, -9.7005e-03,\n",
      "        -2.5199e-02, -3.5448e-03, -3.5393e-03,  2.8697e-03,  2.8709e-02,\n",
      "         2.0451e-02,  3.1339e-02], requires_grad=True))\n",
      "('layers.6.weight', Parameter containing:\n",
      "tensor([[[-0.0067,  0.0184,  0.0046],\n",
      "         [-0.0012, -0.0197,  0.0048],\n",
      "         [ 0.0144,  0.0017, -0.0064],\n",
      "         ...,\n",
      "         [-0.0166, -0.0022, -0.0105],\n",
      "         [-0.0125,  0.0229, -0.0077],\n",
      "         [ 0.0191, -0.0033, -0.0184]],\n",
      "\n",
      "        [[-0.0142, -0.0031,  0.0238],\n",
      "         [ 0.0192, -0.0236, -0.0242],\n",
      "         [-0.0119, -0.0251,  0.0063],\n",
      "         ...,\n",
      "         [ 0.0193, -0.0180, -0.0237],\n",
      "         [-0.0095,  0.0019,  0.0004],\n",
      "         [ 0.0191, -0.0155, -0.0242]],\n",
      "\n",
      "        [[ 0.0207,  0.0244,  0.0061],\n",
      "         [ 0.0156,  0.0179, -0.0049],\n",
      "         [ 0.0107,  0.0160, -0.0063],\n",
      "         ...,\n",
      "         [ 0.0030,  0.0080, -0.0174],\n",
      "         [ 0.0202, -0.0162, -0.0059],\n",
      "         [-0.0086,  0.0233, -0.0104]],\n",
      "\n",
      "        ...,\n",
      "\n",
      "        [[ 0.0015,  0.0063,  0.0142],\n",
      "         [ 0.0075,  0.0027, -0.0195],\n",
      "         [ 0.0113, -0.0095, -0.0050],\n",
      "         ...,\n",
      "         [ 0.0076,  0.0179,  0.0147],\n",
      "         [-0.0172,  0.0113,  0.0130],\n",
      "         [-0.0151,  0.0152, -0.0194]],\n",
      "\n",
      "        [[-0.0206, -0.0157,  0.0074],\n",
      "         [ 0.0172, -0.0097,  0.0030],\n",
      "         [ 0.0222,  0.0223,  0.0140],\n",
      "         ...,\n",
      "         [ 0.0032, -0.0166,  0.0216],\n",
      "         [-0.0133, -0.0047,  0.0108],\n",
      "         [-0.0081, -0.0255,  0.0048]],\n",
      "\n",
      "        [[ 0.0143, -0.0013,  0.0218],\n",
      "         [ 0.0010,  0.0123,  0.0183],\n",
      "         [ 0.0014, -0.0241,  0.0042],\n",
      "         ...,\n",
      "         [ 0.0215, -0.0151, -0.0143],\n",
      "         [ 0.0050,  0.0080,  0.0179],\n",
      "         [ 0.0070,  0.0028,  0.0164]]], requires_grad=True))\n",
      "('layers.6.bias', Parameter containing:\n",
      "tensor([-9.6553e-03,  2.2261e-02,  2.1413e-02,  2.3921e-03, -1.0293e-02,\n",
      "         1.6438e-02, -3.9930e-03, -1.0606e-02,  2.5361e-02, -2.4333e-02,\n",
      "         1.1819e-02, -1.5788e-03,  2.2414e-02,  2.1024e-02,  8.3115e-03,\n",
      "        -2.5036e-02,  2.2897e-02,  6.3900e-03, -2.2900e-02, -1.8094e-02,\n",
      "        -2.4260e-02, -1.5937e-02, -9.6629e-03,  1.2242e-03,  1.4543e-02,\n",
      "         2.3565e-02, -6.8300e-03,  8.1442e-03, -2.0693e-02, -1.4730e-02,\n",
      "         2.3470e-03,  1.0317e-02,  6.8906e-03, -4.9303e-03,  1.5557e-03,\n",
      "        -1.9142e-02, -5.1522e-03,  1.2383e-02,  2.2005e-02, -2.1330e-02,\n",
      "        -2.2931e-02, -1.3837e-02, -1.8251e-02,  2.5547e-03,  9.2081e-03,\n",
      "        -4.8302e-03, -2.4897e-03,  1.5858e-02,  5.7128e-03,  1.1768e-02,\n",
      "        -7.3950e-03,  1.5926e-02, -1.4616e-02, -8.6190e-03,  8.5178e-03,\n",
      "         1.6386e-02, -2.2929e-02, -2.4809e-02, -1.1052e-02, -1.4673e-02,\n",
      "        -1.8847e-02,  2.2684e-02,  1.4513e-02,  1.9904e-02,  6.2651e-03,\n",
      "        -3.8123e-03, -1.2764e-02,  1.4065e-02, -1.2110e-02, -5.7655e-03,\n",
      "        -1.8773e-02,  4.0877e-03, -6.2822e-03,  6.1376e-03,  1.1740e-02,\n",
      "         1.5703e-02,  3.3694e-03,  4.4694e-03,  4.0387e-03, -2.1998e-02,\n",
      "         2.0462e-02, -2.2290e-02, -1.8803e-02,  2.5084e-03, -2.2898e-02,\n",
      "        -2.2796e-02, -1.4352e-02, -4.7753e-04,  3.9902e-03,  1.0500e-02,\n",
      "         1.2713e-02,  2.7446e-03,  3.5561e-03,  7.3029e-03, -9.6288e-03,\n",
      "        -4.9074e-03,  9.0511e-03,  2.2119e-02, -6.4788e-03,  1.2466e-04,\n",
      "         2.1757e-02, -2.0426e-02, -1.1932e-02, -2.2637e-02, -6.3342e-03,\n",
      "         8.7864e-03,  1.4005e-02,  8.3944e-03,  3.8310e-04, -9.4343e-03,\n",
      "        -2.3637e-02, -1.7039e-02, -8.3375e-03, -1.6355e-02, -2.4767e-02,\n",
      "        -2.0439e-02, -1.5917e-02, -1.3071e-02,  1.8723e-02,  3.2167e-03,\n",
      "         1.8836e-02,  1.8277e-02, -1.4232e-02,  1.4601e-02, -7.8397e-03,\n",
      "         9.8256e-05,  5.7669e-03,  9.8880e-03, -1.8576e-02, -2.5144e-02,\n",
      "        -2.1450e-02, -1.3385e-02, -2.0371e-03,  2.0372e-02,  1.3247e-03,\n",
      "         2.2717e-02,  2.4494e-03, -6.1874e-03, -1.0639e-02, -1.0345e-02,\n",
      "        -6.8477e-03, -4.3979e-03,  2.1993e-02, -2.4771e-02,  2.3127e-02,\n",
      "         5.8159e-03,  2.0634e-02,  2.9895e-03, -5.5896e-04,  9.1902e-03,\n",
      "         4.0826e-03, -5.4177e-03,  4.2735e-04, -1.9477e-02,  1.9104e-02,\n",
      "         1.9826e-02, -2.3080e-02,  1.5624e-02,  2.6395e-03,  2.8467e-03,\n",
      "        -1.8647e-02,  1.3048e-02,  6.0830e-03, -5.4284e-03, -2.4042e-02,\n",
      "        -2.7951e-03,  1.9885e-02,  2.1663e-02,  2.3116e-02, -1.9826e-02,\n",
      "        -2.2741e-02, -1.3424e-02,  5.5990e-03, -1.8857e-02,  1.1265e-02,\n",
      "         9.3320e-03], requires_grad=True))\n"
     ]
    }
   ],
   "source": [
    "for i in model.named_parameters():\n",
    "    print(i)"
   ]
  },
  {
   "cell_type": "code",
   "execution_count": 73,
   "metadata": {},
   "outputs": [],
   "source": [
    "from audiocraft.losses.note_eval import extract_notes"
   ]
  },
  {
   "cell_type": "code",
   "execution_count": 74,
   "metadata": {},
   "outputs": [],
   "source": [
    "from audiocraft.data.midi_dataset import EnCodecTokenMIDIDataset\n",
    "from torch.utils.data import DataLoader"
   ]
  },
  {
   "cell_type": "code",
   "execution_count": 77,
   "metadata": {},
   "outputs": [
    {
     "name": "stderr",
     "output_type": "stream",
     "text": [
      "  4%|▍         | 6/137 [00:00<00:03, 37.61it/s]"
     ]
    },
    {
     "name": "stdout",
     "output_type": "stream",
     "text": [
      "Length mismatch! Popping -2 index\n",
      "/home/jongmin/userdata/MAESTRO/maestro-v3.0.0/2004/MIDI-Unprocessed_SMF_12_01_2004_01-05_ORIG_MID--AUDIO_12_R1_2004_03_Track03_wav--1.midi\n",
      "39 38\n",
      "Length mismatch! Popping -2 index\n",
      "/home/jongmin/userdata/MAESTRO/maestro-v3.0.0/2004/MIDI-Unprocessed_SMF_16_R1_2004_01-08_ORIG_MID--AUDIO_16_R1_2004_03_Track03_wav.midi\n",
      "12 11\n"
     ]
    },
    {
     "name": "stderr",
     "output_type": "stream",
     "text": [
      " 10%|█         | 14/137 [00:00<00:04, 28.09it/s]"
     ]
    },
    {
     "name": "stdout",
     "output_type": "stream",
     "text": [
      "Length mismatch! Popping -2 index\n",
      "/home/jongmin/userdata/MAESTRO/maestro-v3.0.0/2004/MIDI-Unprocessed_XP_11_R1_2004_03-04_ORIG_MID--AUDIO_11_R1_2004_04_Track04_wav.midi\n",
      "20 19\n"
     ]
    },
    {
     "name": "stderr",
     "output_type": "stream",
     "text": [
      " 35%|███▌      | 48/137 [00:01<00:02, 31.54it/s]"
     ]
    },
    {
     "name": "stdout",
     "output_type": "stream",
     "text": [
      "Length mismatch! Popping -2 index\n",
      "/home/jongmin/userdata/MAESTRO/maestro-v3.0.0/2008/MIDI-Unprocessed_15_R2_2008_01-04_ORIG_MID--AUDIO_15_R2_2008_wav--4.midi\n",
      "22 21\n"
     ]
    },
    {
     "name": "stderr",
     "output_type": "stream",
     "text": [
      " 55%|█████▍    | 75/137 [00:02<00:01, 33.96it/s]"
     ]
    },
    {
     "name": "stdout",
     "output_type": "stream",
     "text": [
      "Length mismatch! Popping -2 index\n",
      "/home/jongmin/userdata/MAESTRO/maestro-v3.0.0/2011/MIDI-Unprocessed_16_R1_2011_MID--AUDIO_R1-D6_15_Track15_wav.midi\n",
      "13 12\n"
     ]
    },
    {
     "name": "stderr",
     "output_type": "stream",
     "text": [
      " 72%|███████▏  | 98/137 [00:03<00:01, 24.66it/s]"
     ]
    },
    {
     "name": "stdout",
     "output_type": "stream",
     "text": [
      "Length mismatch! Popping -2 index\n",
      "/home/jongmin/userdata/MAESTRO/maestro-v3.0.0/2015/MIDI-Unprocessed_R1_D1-1-8_mid--AUDIO-from_mp3_01_R1_2015_wav--2.midi\n",
      "11 10\n",
      "Length mismatch! Popping -2 index\n",
      "/home/jongmin/userdata/MAESTRO/maestro-v3.0.0/2015/MIDI-Unprocessed_R1_D1-1-8_mid--AUDIO-from_mp3_03_R1_2015_wav--4.midi\n",
      "19 18\n"
     ]
    },
    {
     "name": "stderr",
     "output_type": "stream",
     "text": [
      "100%|██████████| 137/137 [00:05<00:00, 26.02it/s]"
     ]
    },
    {
     "name": "stdout",
     "output_type": "stream",
     "text": [
      "Length mismatch! Popping -2 index\n",
      "/home/jongmin/userdata/MAESTRO/maestro-v3.0.0/2018/MIDI-Unprocessed_Recital9-11_MID--AUDIO_09_R1_2018_wav--4.midi\n",
      "10 9\n"
     ]
    },
    {
     "name": "stderr",
     "output_type": "stream",
     "text": [
      "\n"
     ]
    }
   ],
   "source": [
    "\n",
    "loaded = torch.load('/home/jongmin/userdata/MAESTRO/maestro-v3.0.0/maestro-v3.0.0_split.pt')\n",
    "validation_list = loaded[\"validation\"]\n",
    "\n",
    "path = '/home/jongmin/userdata/MAESTRO/maestro-v3.0.0'\n",
    "validset = EnCodecTokenMIDIDataset(validation_list)\n",
    "\n",
    "val_loader = DataLoader(validset, batch_size=64, shuffle=True)"
   ]
  },
  {
   "cell_type": "code",
   "execution_count": 92,
   "metadata": {},
   "outputs": [
    {
     "data": {
      "text/plain": [
       "torch.Size([88, 1500])"
      ]
     },
     "execution_count": 92,
     "metadata": {},
     "output_type": "execute_result"
    }
   ],
   "source": [
    "validset[0][1][1].shape"
   ]
  },
  {
   "cell_type": "code",
   "execution_count": 93,
   "metadata": {},
   "outputs": [
    {
     "data": {
      "text/plain": [
       "<matplotlib.image.AxesImage at 0x7fa44703da90>"
      ]
     },
     "execution_count": 93,
     "metadata": {},
     "output_type": "execute_result"
    },
    {
     "data": {
      "image/png": "[encoded data removed]",
      "text/plain": [
       "<Figure size 640x480 with 1 Axes>"
      ]
     },
     "metadata": {},
     "output_type": "display_data"
    }
   ],
   "source": [
    "plt.imshow(validset[0][1][1], aspect='auto', origin='lower', interpolation='none')"
   ]
  },
  {
   "cell_type": "code",
   "execution_count": 85,
   "metadata": {},
   "outputs": [
    {
     "name": "stdout",
     "output_type": "stream",
     "text": [
      "torch.Size([2, 88, 1500])\n",
      "torch.Size([1, 2, 88, 1500])\n"
     ]
    },
    {
     "name": "stdout",
     "output_type": "stream",
     "text": [
      "(1367100,)\n"
     ]
    }
   ],
   "source": [
    "\n",
    "model.eval()\n",
    "model.cuda()\n",
    "with torch.no_grad():\n",
    "    encodec_tensor, pr_tensor = validset[0]\n",
    "    encodec_tensor = encodec_tensor.to(\"cuda\")\n",
    "    pr_tensor = pr_tensor.to(\"cuda\")\n",
    "    print(pr_tensor.shape)\n",
    "    output = model(encodec_tensor.unsqueeze(0))\n",
    "    prediction = output.round()\n",
    "    print(prediction.shape)\n",
    "    pred_notes = extract_notes(prediction[0,0].T, prediction[0,1].T, None)\n",
    "    pred_midi = pretty_midi.PrettyMIDI()\n",
    "    pred_midi.instruments.append(pretty_midi.Instrument(0))\n",
    "    for i, pitch in enumerate(pred_notes[0]):\n",
    "        pred_midi.instruments[0].notes.append(pretty_midi.Note(\n",
    "            velocity=100,\n",
    "            pitch=pitch,\n",
    "            start=pred_notes[1][i,0]/50,\n",
    "            end=pred_notes[1][i,1]/50\n",
    "        ))\n",
    "    pred_wav = pred_midi.synthesize()\n",
    "    print(pred_wav.shape)\n",
    "    # wandb.log({\"val_inference/wav\": wandb.Audio(pred_wav, caption=f\"pred_wav_{epoch}\", sample_rate=44100)})"
   ]
  },
  {
   "cell_type": "code",
   "execution_count": null,
   "metadata": {},
   "outputs": [],
   "source": []
  }
 ],
 "metadata": {
  "kernelspec": {
   "display_name": "audiocraft-ssbSDm-j",
   "language": "python",
   "name": "python3"
  },
  "language_info": {
   "codemirror_mode": {
    "name": "ipython",
    "version": 3
   },
   "file_extension": ".py",
   "mimetype": "text/x-python",
   "name": "python",
   "nbconvert_exporter": "python",
   "pygments_lexer": "ipython3",
   "version": "3.8.10"
  }
 },
 "nbformat": 4,
 "nbformat_minor": 2
}
